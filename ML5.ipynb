{
 "cells": [
  {
   "cell_type": "code",
   "execution_count": 90,
   "id": "f1d22d34",
   "metadata": {},
   "outputs": [],
   "source": [
    "import pandas as pd\n",
    "import numpy as np\n",
    "from  sklearn.linear_model import LinearRegression\n",
    "import matplotlib.pyplot as plt\n",
    "from sklearn.metrics import mean_absolute_error"
   ]
  },
  {
   "cell_type": "code",
   "execution_count": 124,
   "id": "cfd5d3af",
   "metadata": {},
   "outputs": [],
   "source": [
    "n=500\n",
    "\n",
    "age = np.random.choice(60,n) + 18\n",
    "income =np. random.choice(200, n)\n",
    "work_hours = np.random.choice (18,n)+1\n",
    "\n",
    "expenses= (income**(3/4))*(1-work_hours/24) ##(=income**(3/4) - income**(3/4)*work_hours/24)\n",
    "#расходы = доход возраст рабочие часы пол"
   ]
  },
  {
   "cell_type": "markdown",
   "id": "726e0de0",
   "metadata": {},
   "source": [
    "фукнция расходов от доходов и рабочего времени. С ростом дохода расходы растут не так быстро (степень 3/4).Чем больше человек работает , тем меньше остается времени, чтобы тратить (1-work_hours/24) :-)"
   ]
  },
  {
   "cell_type": "code",
   "execution_count": 125,
   "id": "d44fee14",
   "metadata": {},
   "outputs": [
    {
     "data": {
      "text/html": [
       "<div>\n",
       "<style scoped>\n",
       "    .dataframe tbody tr th:only-of-type {\n",
       "        vertical-align: middle;\n",
       "    }\n",
       "\n",
       "    .dataframe tbody tr th {\n",
       "        vertical-align: top;\n",
       "    }\n",
       "\n",
       "    .dataframe thead th {\n",
       "        text-align: right;\n",
       "    }\n",
       "</style>\n",
       "<table border=\"1\" class=\"dataframe\">\n",
       "  <thead>\n",
       "    <tr style=\"text-align: right;\">\n",
       "      <th></th>\n",
       "      <th>age</th>\n",
       "      <th>income</th>\n",
       "      <th>work_hours</th>\n",
       "      <th>expenses</th>\n",
       "    </tr>\n",
       "  </thead>\n",
       "  <tbody>\n",
       "    <tr>\n",
       "      <th>0</th>\n",
       "      <td>23</td>\n",
       "      <td>48</td>\n",
       "      <td>6</td>\n",
       "      <td>13.677042</td>\n",
       "    </tr>\n",
       "    <tr>\n",
       "      <th>1</th>\n",
       "      <td>23</td>\n",
       "      <td>28</td>\n",
       "      <td>11</td>\n",
       "      <td>6.593267</td>\n",
       "    </tr>\n",
       "    <tr>\n",
       "      <th>2</th>\n",
       "      <td>37</td>\n",
       "      <td>54</td>\n",
       "      <td>6</td>\n",
       "      <td>14.940206</td>\n",
       "    </tr>\n",
       "    <tr>\n",
       "      <th>3</th>\n",
       "      <td>70</td>\n",
       "      <td>89</td>\n",
       "      <td>13</td>\n",
       "      <td>13.280791</td>\n",
       "    </tr>\n",
       "    <tr>\n",
       "      <th>4</th>\n",
       "      <td>55</td>\n",
       "      <td>183</td>\n",
       "      <td>4</td>\n",
       "      <td>41.462651</td>\n",
       "    </tr>\n",
       "  </tbody>\n",
       "</table>\n",
       "</div>"
      ],
      "text/plain": [
       "   age  income  work_hours   expenses\n",
       "0   23      48           6  13.677042\n",
       "1   23      28          11   6.593267\n",
       "2   37      54           6  14.940206\n",
       "3   70      89          13  13.280791\n",
       "4   55     183           4  41.462651"
      ]
     },
     "execution_count": 125,
     "metadata": {},
     "output_type": "execute_result"
    }
   ],
   "source": [
    "data=pd.DataFrame({'age':age,'income': income, 'work_hours':work_hours,'expenses':expenses})\n",
    "data.head()"
   ]
  },
  {
   "cell_type": "code",
   "execution_count": 152,
   "id": "ad65877a",
   "metadata": {},
   "outputs": [
    {
     "name": "stdout",
     "output_type": "stream",
     "text": [
      "Weights: [ 0.00182856  0.1493498  -1.36756719]\n",
      "Bias: 16.092320502072297\n",
      "Error: 2.4537158120795337\n",
      "Коэфф детерминации: 0.9202589310416459\n"
     ]
    }
   ],
   "source": [
    "model=LinearRegression()\n",
    "x=data[['age','income','work_hours']] \n",
    "y=data['expenses']\n",
    "model.fit(x,y)\n",
    "\n",
    "print('Weights: {}'.format(model.coef_))\n",
    "print('Bias: {}'.format(model.intercept_))\n",
    "\n",
    "pred_values = model.predict(data[['age','income','work_hours']])\n",
    "print('Error: {}'.format(mean_absolute_error(pred_values, y)))\n",
    "print('Коэфф детерминации:', format(model.score(x,y)))"
   ]
  },
  {
   "cell_type": "code",
   "execution_count": 146,
   "id": "8f256fe9",
   "metadata": {},
   "outputs": [
    {
     "name": "stdout",
     "output_type": "stream",
     "text": [
      "16.91033928271966\n",
      "11.407846284667738\n"
     ]
    }
   ],
   "source": [
    "print(y.median())\n",
    "print(y.var()**(1/2))"
   ]
  },
  {
   "cell_type": "markdown",
   "id": "ce1359fe",
   "metadata": {},
   "source": [
    "Получалась модель с очень большим смещением, \n",
    "которая практически не зависит от первой переменной, \n",
    "небольшая зависимость от income, \n",
    "обратно пропорциональна раб часам.\n",
    "ПРи этом коэф детерминации очень высокий, что говорит о хорошем качетве модели :-)"
   ]
  },
  {
   "cell_type": "code",
   "execution_count": 156,
   "id": "d5f3a55c",
   "metadata": {},
   "outputs": [
    {
     "name": "stdout",
     "output_type": "stream",
     "text": [
      "Weights: [ 0.14935623 -1.36740891]\n",
      "Bias: 16.17934103728718\n",
      "Error: 2.454005703362891\n",
      "Коэфф детерминации:  0.9202511145493496\n"
     ]
    }
   ],
   "source": [
    "model2=LinearRegression()\n",
    "x=data[['income','work_hours']] \n",
    "y=data['expenses']\n",
    "model2.fit(x,y)\n",
    "\n",
    "print('Weights: {}'.format(model2.coef_))\n",
    "print('Bias: {}'.format(model2.intercept_))\n",
    "\n",
    "pred_values = model2.predict(data[['income','work_hours']])\n",
    "print('Error: {}'.format(mean_absolute_error(pred_values, y)))\n",
    "print('Коэфф детерминации: ', format(model2.score(x,y)))"
   ]
  },
  {
   "cell_type": "markdown",
   "id": "ea0a18c4",
   "metadata": {},
   "source": [
    "\n",
    "качество модели почти не изменилось, когда убрали фактор, который изначально не присутсвовал в модели"
   ]
  },
  {
   "cell_type": "code",
   "execution_count": null,
   "id": "36f18629",
   "metadata": {},
   "outputs": [],
   "source": [
    "data['sqr_income']=data['income']**(3/4)"
   ]
  },
  {
   "cell_type": "code",
   "execution_count": 157,
   "id": "1bd4353d",
   "metadata": {},
   "outputs": [
    {
     "name": "stdout",
     "output_type": "stream",
     "text": [
      "Weights: [ 0.01658326 -1.36052107  0.53160867]\n",
      "Bias: 13.29864078904722\n",
      "Error: 2.3529029011235276\n",
      "Коэфф детерминации:  0.9242491731483069\n"
     ]
    }
   ],
   "source": [
    "model3=LinearRegression()\n",
    "x=data[['income','work_hours','sqr_income']] \n",
    "y=data['expenses']\n",
    "model3.fit(x,y)\n",
    "\n",
    "print('Weights: {}'.format(model3.coef_))\n",
    "print('Bias: {}'.format(model3.intercept_))\n",
    "\n",
    "pred_values = model3.predict(data[['income','work_hours','sqr_income']])\n",
    "print('Error: {}'.format(mean_absolute_error(pred_values, y)))\n",
    "print('Коэфф детерминации: ', format(model3.score(x,y)))"
   ]
  },
  {
   "cell_type": "markdown",
   "id": "e617b696",
   "metadata": {},
   "source": [
    "добавили фактор со степенью 0,75, смещение осталось большим, ошибка чуть уменьшилась"
   ]
  },
  {
   "cell_type": "code",
   "execution_count": 138,
   "id": "5d223365",
   "metadata": {},
   "outputs": [],
   "source": [
    "data['sqr_income_wh']=data['sqr_income']*data['work_hours']"
   ]
  },
  {
   "cell_type": "code",
   "execution_count": 158,
   "id": "542f75cf",
   "metadata": {},
   "outputs": [
    {
     "name": "stdout",
     "output_type": "stream",
     "text": [
      "Weights: [ 2.22783000e-16 -1.71009305e-16  1.00000000e+00 -4.16666667e-02]\n",
      "Bias: -7.105427357601002e-15\n",
      "Error: 6.264057338978012e-15\n",
      "Коэфф детерминации:  1.0\n"
     ]
    }
   ],
   "source": [
    "model4=LinearRegression()\n",
    "x=data[['income','work_hours','sqr_income','sqr_income_wh']] \n",
    "y=data['expenses']\n",
    "model4.fit(x,y)\n",
    "\n",
    "print('Weights: {}'.format(model4.coef_))\n",
    "print('Bias: {}'.format(model4.intercept_))\n",
    "\n",
    "pred_values = model4.predict(data[['income','work_hours','sqr_income','sqr_income_wh']])\n",
    "print('Error: {}'.format(mean_absolute_error(pred_values, y)))\n",
    "print('Коэфф детерминации: ', format(model4.score(x,y)))"
   ]
  },
  {
   "cell_type": "markdown",
   "id": "d83763e6",
   "metadata": {},
   "source": [
    "теперь идеально.ошибка почти 0, смещение 0, коэф верные, коэф детерминации 1"
   ]
  },
  {
   "cell_type": "code",
   "execution_count": 63,
   "id": "c3e69c43",
   "metadata": {},
   "outputs": [
    {
     "data": {
      "text/plain": [
       "<mpl_toolkits.mplot3d.art3d.Path3DCollection at 0x29ea036b3a0>"
      ]
     },
     "execution_count": 63,
     "metadata": {},
     "output_type": "execute_result"
    },
    {
     "data": {
      "image/png": "[encoded data removed]",
      "text/plain": [
       "<Figure size 432x288 with 1 Axes>"
      ]
     },
     "metadata": {
      "needs_background": "light"
     },
     "output_type": "display_data"
    }
   ],
   "source": [
    "##plt.scatter(income, expenses, work_hours)\n",
    "from mpl_toolkits.mplot3d import Axes3D\n",
    "fig = plt.figure()\n",
    "ax = fig.add_subplot(111, projection='3d')\n",
    "ax.scatter(income,  work_hours,expenses)"
   ]
  },
  {
   "cell_type": "code",
   "execution_count": null,
   "id": "23a3f04d",
   "metadata": {},
   "outputs": [],
   "source": []
  }
 ],
 "metadata": {
  "kernelspec": {
   "display_name": "Python 3",
   "language": "python",
   "name": "python3"
  },
  "language_info": {
   "codemirror_mode": {
    "name": "ipython",
    "version": 3
   },
   "file_extension": ".py",
   "mimetype": "text/x-python",
   "name": "python",
   "nbconvert_exporter": "python",
   "pygments_lexer": "ipython3",
   "version": "3.8.8"
  }
 },
 "nbformat": 4,
 "nbformat_minor": 5
}
