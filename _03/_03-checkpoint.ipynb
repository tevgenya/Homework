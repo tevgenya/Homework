{
 "cells": [
  {
   "cell_type": "code",
   "execution_count": 21,
   "metadata": {},
   "outputs": [
    {
     "name": "stdout",
     "output_type": "stream",
     "text": [
      "t\n"
     ]
    }
   ],
   "source": [
    "word='testing'\n",
    "if len(word)%2==0:\n",
    "    a=int(len(word)/2)\n",
    "    print(word[a-1:a+1])\n",
    "else: \n",
    "    a=int((len(word)-1)/2)\n",
    "    print(word[a])"
   ]
  },
  {
   "cell_type": "code",
   "execution_count": 34,
   "metadata": {},
   "outputs": [
    {
     "name": "stdout",
     "output_type": "stream",
     "text": [
      "Введите число 0\n",
      "0\n"
     ]
    }
   ],
   "source": [
    "list=[0]\n",
    "a=1\n",
    "while float(a)!=float(0):\n",
    "    a=input('Введите число ')\n",
    "    list.append(int(a))\n",
    "\n",
    "sum=0    \n",
    "for i in list:\n",
    "    sum=sum+i\n",
    "    \n",
    "print(sum)"
   ]
  },
  {
   "cell_type": "code",
   "execution_count": 40,
   "metadata": {},
   "outputs": [
    {
     "name": "stdout",
     "output_type": "stream",
     "text": [
      "Внимание, кто-то может остаться без пары!\n"
     ]
    }
   ],
   "source": [
    "boys = ['Peter', 'Alex', 'John', 'Arthur', 'Richard', 'ddd']\n",
    "girls = ['Kate', 'Liza', 'Kira', 'Emma', 'Trisha']\n",
    "sorted(boys)\n",
    "sorted(girls)\n",
    "\n",
    "if len(boys)==len(girls):\n",
    "    print('Идеальные пары')\n",
    "    for i in range(len(boys)):\n",
    "        print(boys[i],\" и \",girls[i])\n",
    "else:\n",
    "    print('Внимание, кто-то может остаться без пары!')"
   ]
  },
  {
   "cell_type": "code",
   "execution_count": 53,
   "metadata": {},
   "outputs": [
    {
     "name": "stdout",
     "output_type": "stream",
     "text": [
      "Thailand  23.9\n",
      "Germany  13.8\n",
      "Russia  3.7\n",
      "Poland  12.0\n"
     ]
    }
   ],
   "source": [
    "countries_temperature = [\n",
    "['Thailand', [75.2, 77, 78.8, 73.4, 68, 75.2, 77]],\n",
    "['Germany', [57.2, 55.4, 59, 59, 53.6]],\n",
    "['Russia', [35.6, 37.4, 39.2, 41, 42.8, 39.2, 35.6]],\n",
    "['Poland', [50, 50, 53.6, 57.2, 55.4, 55.4]]\n",
    "]\n",
    "\n",
    "for element in countries_temperature:\n",
    "    sum=0\n",
    "    print(element[0],' ',end='')\n",
    "    for tempr in element[1]:\n",
    "        sum=sum+tempr\n",
    "    a=len(element[1])    \n",
    "    avg_tempr=(sum/a-32)/1.8 \n",
    "    print(round(avg_tempr,1))   "
   ]
  }
 ],
 "metadata": {
  "kernelspec": {
   "display_name": "Python 3",
   "language": "python",
   "name": "python3"
  },
  "language_info": {
   "codemirror_mode": {
    "name": "ipython",
    "version": 3
   },
   "file_extension": ".py",
   "mimetype": "text/x-python",
   "name": "python",
   "nbconvert_exporter": "python",
   "pygments_lexer": "ipython3",
   "version": "3.8.5"
  }
 },
 "nbformat": 4,
 "nbformat_minor": 4
}
