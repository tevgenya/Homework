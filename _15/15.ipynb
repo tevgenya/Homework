{
 "cells": [
  {
   "cell_type": "code",
   "execution_count": 62,
   "metadata": {},
   "outputs": [],
   "source": [
    "import pandas as pd\n",
    "data = pd.read_csv('https://raw.githubusercontent.com/obulygin/pyda_homeworks/master/statistics_basics/horse_data.csv', \n",
    "                   names=['surgery','Age','Hospital Number','rectal temperature','pulse','6','temperature of extremities','peripheral pulse','mucous membranes','10','pain',' peristalsis','abdominal distension','14','15','16','17','18','packed cell volume','total protein','21','22','outcome','24','25','26','27','cp_data'],\n",
    "                   na_values='?')"
   ]
  },
  {
   "cell_type": "code",
   "execution_count": 3,
   "metadata": {},
   "outputs": [
    {
     "name": "stdout",
     "output_type": "stream",
     "text": [
      "<class 'pandas.core.frame.DataFrame'>\n",
      "RangeIndex: 300 entries, 0 to 299\n",
      "Data columns (total 28 columns):\n",
      " #   Column                      Non-Null Count  Dtype  \n",
      "---  ------                      --------------  -----  \n",
      " 0   surgery                     299 non-null    float64\n",
      " 1   Age                         300 non-null    int64  \n",
      " 2   Hospital Number             300 non-null    int64  \n",
      " 3   rectal temperature          240 non-null    float64\n",
      " 4   pulse                       276 non-null    float64\n",
      " 5   6                           242 non-null    float64\n",
      " 6   temperature of extremities  244 non-null    float64\n",
      " 7   peripheral pulse            231 non-null    float64\n",
      " 8   mucous membranes            253 non-null    float64\n",
      " 9   10                          268 non-null    float64\n",
      " 10  pain                        245 non-null    float64\n",
      " 11   peristalsis                256 non-null    float64\n",
      " 12  abdominal distension        244 non-null    float64\n",
      " 13  14                          196 non-null    float64\n",
      " 14  15                          194 non-null    float64\n",
      " 15  16                          53 non-null     float64\n",
      " 16  17                          198 non-null    float64\n",
      " 17  18                          182 non-null    float64\n",
      " 18  packed cell volume          271 non-null    float64\n",
      " 19  total protein               267 non-null    float64\n",
      " 20  21                          135 non-null    float64\n",
      " 21  22                          102 non-null    float64\n",
      " 22  outcome                     299 non-null    float64\n",
      " 23  24                          300 non-null    int64  \n",
      " 24  25                          300 non-null    int64  \n",
      " 25  26                          300 non-null    int64  \n",
      " 26  27                          300 non-null    int64  \n",
      " 27  cp_data                     300 non-null    int64  \n",
      "dtypes: float64(21), int64(7)\n",
      "memory usage: 65.8 KB\n"
     ]
    }
   ],
   "source": [
    "data.info()"
   ]
  },
  {
   "cell_type": "code",
   "execution_count": 4,
   "metadata": {},
   "outputs": [],
   "source": [
    "data.drop(['6','10','14','15','16','17','18','21','22','24','25','26','27'], axis=1, inplace=True)"
   ]
  },
  {
   "cell_type": "code",
   "execution_count": 5,
   "metadata": {},
   "outputs": [
    {
     "data": {
      "text/html": [
       "<div>\n",
       "<style scoped>\n",
       "    .dataframe tbody tr th:only-of-type {\n",
       "        vertical-align: middle;\n",
       "    }\n",
       "\n",
       "    .dataframe tbody tr th {\n",
       "        vertical-align: top;\n",
       "    }\n",
       "\n",
       "    .dataframe thead th {\n",
       "        text-align: right;\n",
       "    }\n",
       "</style>\n",
       "<table border=\"1\" class=\"dataframe\">\n",
       "  <thead>\n",
       "    <tr style=\"text-align: right;\">\n",
       "      <th></th>\n",
       "      <th>surgery</th>\n",
       "      <th>Age</th>\n",
       "      <th>Hospital Number</th>\n",
       "      <th>rectal temperature</th>\n",
       "      <th>pulse</th>\n",
       "      <th>temperature of extremities</th>\n",
       "      <th>peripheral pulse</th>\n",
       "      <th>mucous membranes</th>\n",
       "      <th>pain</th>\n",
       "      <th>peristalsis</th>\n",
       "      <th>abdominal distension</th>\n",
       "      <th>packed cell volume</th>\n",
       "      <th>total protein</th>\n",
       "      <th>outcome</th>\n",
       "      <th>cp_data</th>\n",
       "    </tr>\n",
       "  </thead>\n",
       "  <tbody>\n",
       "    <tr>\n",
       "      <th>count</th>\n",
       "      <td>299.000000</td>\n",
       "      <td>300.000000</td>\n",
       "      <td>3.000000e+02</td>\n",
       "      <td>240.000000</td>\n",
       "      <td>276.000000</td>\n",
       "      <td>244.000000</td>\n",
       "      <td>231.000000</td>\n",
       "      <td>253.000000</td>\n",
       "      <td>245.00000</td>\n",
       "      <td>256.000000</td>\n",
       "      <td>244.000000</td>\n",
       "      <td>271.000000</td>\n",
       "      <td>267.000000</td>\n",
       "      <td>299.000000</td>\n",
       "      <td>300.000000</td>\n",
       "    </tr>\n",
       "    <tr>\n",
       "      <th>mean</th>\n",
       "      <td>1.397993</td>\n",
       "      <td>1.640000</td>\n",
       "      <td>1.085889e+06</td>\n",
       "      <td>38.167917</td>\n",
       "      <td>71.913043</td>\n",
       "      <td>2.348361</td>\n",
       "      <td>2.017316</td>\n",
       "      <td>2.853755</td>\n",
       "      <td>2.95102</td>\n",
       "      <td>2.917969</td>\n",
       "      <td>2.266393</td>\n",
       "      <td>46.295203</td>\n",
       "      <td>24.456929</td>\n",
       "      <td>1.551839</td>\n",
       "      <td>1.670000</td>\n",
       "    </tr>\n",
       "    <tr>\n",
       "      <th>std</th>\n",
       "      <td>0.490305</td>\n",
       "      <td>2.173972</td>\n",
       "      <td>1.529801e+06</td>\n",
       "      <td>0.732289</td>\n",
       "      <td>28.630557</td>\n",
       "      <td>1.045054</td>\n",
       "      <td>1.042428</td>\n",
       "      <td>1.620294</td>\n",
       "      <td>1.30794</td>\n",
       "      <td>0.976744</td>\n",
       "      <td>1.065131</td>\n",
       "      <td>10.419335</td>\n",
       "      <td>27.475009</td>\n",
       "      <td>0.737187</td>\n",
       "      <td>0.470998</td>\n",
       "    </tr>\n",
       "    <tr>\n",
       "      <th>min</th>\n",
       "      <td>1.000000</td>\n",
       "      <td>1.000000</td>\n",
       "      <td>5.184760e+05</td>\n",
       "      <td>35.400000</td>\n",
       "      <td>30.000000</td>\n",
       "      <td>1.000000</td>\n",
       "      <td>1.000000</td>\n",
       "      <td>1.000000</td>\n",
       "      <td>1.00000</td>\n",
       "      <td>1.000000</td>\n",
       "      <td>1.000000</td>\n",
       "      <td>23.000000</td>\n",
       "      <td>3.300000</td>\n",
       "      <td>1.000000</td>\n",
       "      <td>1.000000</td>\n",
       "    </tr>\n",
       "    <tr>\n",
       "      <th>25%</th>\n",
       "      <td>1.000000</td>\n",
       "      <td>1.000000</td>\n",
       "      <td>5.289040e+05</td>\n",
       "      <td>37.800000</td>\n",
       "      <td>48.000000</td>\n",
       "      <td>1.000000</td>\n",
       "      <td>1.000000</td>\n",
       "      <td>1.000000</td>\n",
       "      <td>2.00000</td>\n",
       "      <td>3.000000</td>\n",
       "      <td>1.000000</td>\n",
       "      <td>38.000000</td>\n",
       "      <td>6.500000</td>\n",
       "      <td>1.000000</td>\n",
       "      <td>1.000000</td>\n",
       "    </tr>\n",
       "    <tr>\n",
       "      <th>50%</th>\n",
       "      <td>1.000000</td>\n",
       "      <td>1.000000</td>\n",
       "      <td>5.303055e+05</td>\n",
       "      <td>38.200000</td>\n",
       "      <td>64.000000</td>\n",
       "      <td>3.000000</td>\n",
       "      <td>2.000000</td>\n",
       "      <td>3.000000</td>\n",
       "      <td>3.00000</td>\n",
       "      <td>3.000000</td>\n",
       "      <td>2.000000</td>\n",
       "      <td>45.000000</td>\n",
       "      <td>7.500000</td>\n",
       "      <td>1.000000</td>\n",
       "      <td>2.000000</td>\n",
       "    </tr>\n",
       "    <tr>\n",
       "      <th>75%</th>\n",
       "      <td>2.000000</td>\n",
       "      <td>1.000000</td>\n",
       "      <td>5.347275e+05</td>\n",
       "      <td>38.500000</td>\n",
       "      <td>88.000000</td>\n",
       "      <td>3.000000</td>\n",
       "      <td>3.000000</td>\n",
       "      <td>4.000000</td>\n",
       "      <td>4.00000</td>\n",
       "      <td>4.000000</td>\n",
       "      <td>3.000000</td>\n",
       "      <td>52.000000</td>\n",
       "      <td>57.000000</td>\n",
       "      <td>2.000000</td>\n",
       "      <td>2.000000</td>\n",
       "    </tr>\n",
       "    <tr>\n",
       "      <th>max</th>\n",
       "      <td>2.000000</td>\n",
       "      <td>9.000000</td>\n",
       "      <td>5.305629e+06</td>\n",
       "      <td>40.800000</td>\n",
       "      <td>184.000000</td>\n",
       "      <td>4.000000</td>\n",
       "      <td>4.000000</td>\n",
       "      <td>6.000000</td>\n",
       "      <td>5.00000</td>\n",
       "      <td>4.000000</td>\n",
       "      <td>4.000000</td>\n",
       "      <td>75.000000</td>\n",
       "      <td>89.000000</td>\n",
       "      <td>3.000000</td>\n",
       "      <td>2.000000</td>\n",
       "    </tr>\n",
       "  </tbody>\n",
       "</table>\n",
       "</div>"
      ],
      "text/plain": [
       "          surgery         Age  Hospital Number  rectal temperature  \\\n",
       "count  299.000000  300.000000     3.000000e+02          240.000000   \n",
       "mean     1.397993    1.640000     1.085889e+06           38.167917   \n",
       "std      0.490305    2.173972     1.529801e+06            0.732289   \n",
       "min      1.000000    1.000000     5.184760e+05           35.400000   \n",
       "25%      1.000000    1.000000     5.289040e+05           37.800000   \n",
       "50%      1.000000    1.000000     5.303055e+05           38.200000   \n",
       "75%      2.000000    1.000000     5.347275e+05           38.500000   \n",
       "max      2.000000    9.000000     5.305629e+06           40.800000   \n",
       "\n",
       "            pulse  temperature of extremities  peripheral pulse  \\\n",
       "count  276.000000                  244.000000        231.000000   \n",
       "mean    71.913043                    2.348361          2.017316   \n",
       "std     28.630557                    1.045054          1.042428   \n",
       "min     30.000000                    1.000000          1.000000   \n",
       "25%     48.000000                    1.000000          1.000000   \n",
       "50%     64.000000                    3.000000          2.000000   \n",
       "75%     88.000000                    3.000000          3.000000   \n",
       "max    184.000000                    4.000000          4.000000   \n",
       "\n",
       "       mucous membranes       pain   peristalsis  abdominal distension  \\\n",
       "count        253.000000  245.00000    256.000000            244.000000   \n",
       "mean           2.853755    2.95102      2.917969              2.266393   \n",
       "std            1.620294    1.30794      0.976744              1.065131   \n",
       "min            1.000000    1.00000      1.000000              1.000000   \n",
       "25%            1.000000    2.00000      3.000000              1.000000   \n",
       "50%            3.000000    3.00000      3.000000              2.000000   \n",
       "75%            4.000000    4.00000      4.000000              3.000000   \n",
       "max            6.000000    5.00000      4.000000              4.000000   \n",
       "\n",
       "       packed cell volume  total protein     outcome     cp_data  \n",
       "count          271.000000     267.000000  299.000000  300.000000  \n",
       "mean            46.295203      24.456929    1.551839    1.670000  \n",
       "std             10.419335      27.475009    0.737187    0.470998  \n",
       "min             23.000000       3.300000    1.000000    1.000000  \n",
       "25%             38.000000       6.500000    1.000000    1.000000  \n",
       "50%             45.000000       7.500000    1.000000    2.000000  \n",
       "75%             52.000000      57.000000    2.000000    2.000000  \n",
       "max             75.000000      89.000000    3.000000    2.000000  "
      ]
     },
     "execution_count": 5,
     "metadata": {},
     "output_type": "execute_result"
    }
   ],
   "source": [
    "data.describe()"
   ]
  },
  {
   "cell_type": "markdown",
   "metadata": {},
   "source": [
    "1)rectal temperature - 75% of all animals had elevated temp (25% quantile = 37.8-normal temp)\n",
    "2)Std of pulse and Gap between 75% quant. and max are huge so there can be some outliers in data\n",
    "3)most animals  had  normal packed cell volume (mean =46, median=45, 25% =23, 75%q = 52, normal 30-50)\n",
    "4)50% of all animals had  elevated total protein (normal 6-7,5; median=7.5)"
   ]
  },
  {
   "cell_type": "code",
   "execution_count": 21,
   "metadata": {},
   "outputs": [
    {
     "data": {
      "text/plain": [
       "total protein\n",
       "3.3     1\n",
       "4.0     1\n",
       "4.5     2\n",
       "4.6     1\n",
       "4.7     1\n",
       "       ..\n",
       "81.0    2\n",
       "82.0    1\n",
       "85.0    1\n",
       "86.0    1\n",
       "89.0    1\n",
       "Name: total protein, Length: 81, dtype: int64"
      ]
     },
     "execution_count": 21,
     "metadata": {},
     "output_type": "execute_result"
    }
   ],
   "source": [
    "# Задание 2. Ищем  выбросы\n",
    "data.groupby('total protein')['total protein'].count()"
   ]
  },
  {
   "cell_type": "code",
   "execution_count": 24,
   "metadata": {},
   "outputs": [
    {
     "name": "stdout",
     "output_type": "stream",
     "text": [
      "132.75\n"
     ]
    }
   ],
   "source": [
    "q1 = data['total protein'].quantile(0.25)\n",
    "q3 = data['total protein'].quantile(0.75)\n",
    "iqr = q3 - q1\n",
    "higher_bound = q3 + (1.5*iqr)\n",
    "print(higher_bound)\n",
    "# max=89\n",
    "# Нет выбросов, которыми стоило бы пренебречь, т.к значения плавно возрастают, к тому же рассчет через iqr говорит, что это не выброс"
   ]
  },
  {
   "cell_type": "code",
   "execution_count": 30,
   "metadata": {},
   "outputs": [
    {
     "name": "stdout",
     "output_type": "stream",
     "text": [
      "higher_bound=  148.0\n"
     ]
    },
    {
     "data": {
      "text/plain": [
       "pulse\n",
       "30.0      2\n",
       "36.0      3\n",
       "38.0      1\n",
       "40.0     18\n",
       "42.0     10\n",
       "44.0     11\n",
       "45.0      2\n",
       "46.0      1\n",
       "48.0     28\n",
       "49.0      1\n",
       "50.0      6\n",
       "52.0     12\n",
       "54.0      7\n",
       "56.0      7\n",
       "60.0     25\n",
       "64.0      8\n",
       "65.0      1\n",
       "66.0      6\n",
       "68.0      5\n",
       "70.0      4\n",
       "72.0     11\n",
       "75.0      1\n",
       "76.0      4\n",
       "78.0      3\n",
       "80.0      8\n",
       "82.0      1\n",
       "84.0      8\n",
       "86.0      3\n",
       "88.0     12\n",
       "90.0      3\n",
       "92.0      4\n",
       "96.0      8\n",
       "98.0      1\n",
       "100.0    11\n",
       "104.0     5\n",
       "108.0     3\n",
       "110.0     1\n",
       "112.0     3\n",
       "114.0     2\n",
       "120.0    10\n",
       "124.0     2\n",
       "128.0     1\n",
       "129.0     1\n",
       "130.0     2\n",
       "132.0     1\n",
       "136.0     1\n",
       "140.0     2\n",
       "146.0     1\n",
       "150.0     2\n",
       "160.0     1\n",
       "164.0     1\n",
       "184.0     1\n",
       "Name: pulse, dtype: int64"
      ]
     },
     "execution_count": 30,
     "metadata": {},
     "output_type": "execute_result"
    }
   ],
   "source": [
    "q1_pulse = data['pulse'].quantile(0.25)\n",
    "q3_pulse = data['pulse'].quantile(0.75)\n",
    "iqr_pulse = q3_pulse - q1_pulse\n",
    "higher_bound_pulse = q3_pulse + (1.5*iqr_pulse)\n",
    "print('higher_bound= ',higher_bound_pulse)\n",
    "data.groupby('pulse')['pulse'].count()\n",
    "# max=184\n",
    "# значения пульса тоже не выглядят как ошибочные. Вопрос только с  одним наблюдением, где пульс равен max  значению. Тут лучше посоветоваться со специалистом"
   ]
  },
  {
   "cell_type": "code",
   "execution_count": 31,
   "metadata": {},
   "outputs": [
    {
     "name": "stdout",
     "output_type": "stream",
     "text": [
      "<class 'pandas.core.frame.DataFrame'>\n",
      "RangeIndex: 300 entries, 0 to 299\n",
      "Data columns (total 15 columns):\n",
      " #   Column                      Non-Null Count  Dtype  \n",
      "---  ------                      --------------  -----  \n",
      " 0   surgery                     299 non-null    float64\n",
      " 1   Age                         300 non-null    int64  \n",
      " 2   Hospital Number             300 non-null    int64  \n",
      " 3   rectal temperature          240 non-null    float64\n",
      " 4   pulse                       276 non-null    float64\n",
      " 5   temperature of extremities  244 non-null    float64\n",
      " 6   peripheral pulse            231 non-null    float64\n",
      " 7   mucous membranes            253 non-null    float64\n",
      " 8   pain                        245 non-null    float64\n",
      " 9    peristalsis                256 non-null    float64\n",
      " 10  abdominal distension        244 non-null    float64\n",
      " 11  packed cell volume          271 non-null    float64\n",
      " 12  total protein               267 non-null    float64\n",
      " 13  outcome                     299 non-null    float64\n",
      " 14  cp_data                     300 non-null    int64  \n",
      "dtypes: float64(12), int64(3)\n",
      "memory usage: 35.3 KB\n"
     ]
    }
   ],
   "source": [
    "# Задание 3. Пропуски\n",
    "data.info()"
   ]
  },
  {
   "cell_type": "code",
   "execution_count": 45,
   "metadata": {},
   "outputs": [
    {
     "data": {
      "text/plain": [
       "temperature of extremities\n",
       "1.0    38.15\n",
       "2.0    38.20\n",
       "3.0    38.10\n",
       "4.0    38.35\n",
       "Name: rectal temperature, dtype: float64"
      ]
     },
     "execution_count": 45,
     "metadata": {},
     "output_type": "execute_result"
    }
   ],
   "source": [
    "# в условии сказано, что temperature of extremities и rectal temperature несколько коррелируют, хотя по цифрам этого не скажешь\n",
    "# поэтому заменяем просто средним\n",
    "data.groupby('temperature of extremities')['rectal temperature'].median()"
   ]
  },
  {
   "cell_type": "code",
   "execution_count": 49,
   "metadata": {},
   "outputs": [],
   "source": [
    "ch_data = data\n",
    "ch_data['rectal temperature'].fillna(data['rectal temperature'].mean(), inplace=True)"
   ]
  },
  {
   "cell_type": "code",
   "execution_count": 61,
   "metadata": {},
   "outputs": [
    {
     "data": {
      "text/plain": [
       "surgery\n",
       "1.0    3.233333\n",
       "2.0    2.386555\n",
       "Name: pain, dtype: float64"
      ]
     },
     "execution_count": 61,
     "metadata": {},
     "output_type": "execute_result"
    }
   ],
   "source": [
    "# можно заполнить pain, используя surgery, т.к они взаимосвязаны\n",
    "ch_data['pain'].fillna(data.groupby('surgery')['pain'].transform('mean'), inplace=True)\n",
    "ch_data['pain']=ch_data['pain'].round(0)\n",
    "\n",
    "data.groupby('surgery')['pain'].mean()"
   ]
  },
  {
   "cell_type": "code",
   "execution_count": null,
   "metadata": {},
   "outputs": [],
   "source": [
    "# можно и дальше продолжать заполнять пропуски, но смысла особо нет"
   ]
  }
 ],
 "metadata": {
  "kernelspec": {
   "display_name": "Python 3",
   "language": "python",
   "name": "python3"
  },
  "language_info": {
   "codemirror_mode": {
    "name": "ipython",
    "version": 3
   },
   "file_extension": ".py",
   "mimetype": "text/x-python",
   "name": "python",
   "nbconvert_exporter": "python",
   "pygments_lexer": "ipython3",
   "version": "3.8.5"
  }
 },
 "nbformat": 4,
 "nbformat_minor": 4
}
