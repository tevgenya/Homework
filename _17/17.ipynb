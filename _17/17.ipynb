{
 "cells": [
  {
   "cell_type": "code",
   "execution_count": 19,
   "metadata": {},
   "outputs": [
    {
     "name": "stdout",
     "output_type": "stream",
     "text": [
      "-0.2013413\n"
     ]
    }
   ],
   "source": [
    "import numpy as np\n",
    "\n",
    "trials = 10000000\n",
    "result = 0\n",
    "\n",
    "for i  in range(trials):\n",
    "    a=np.random.randint(0,1000)\n",
    "    if a == 777:\n",
    "        result +=200\n",
    "    elif a == 999:\n",
    "        result +=100\n",
    "    elif a == 555:\n",
    "        result +=50\n",
    "    elif a == 333:\n",
    "        result +=15\n",
    "    elif a == 111:\n",
    "        result +=10\n",
    "    elif a % 100 == 77:\n",
    "        result +=5\n",
    "    elif a % 10 == 7:\n",
    "        result +=3    \n",
    "    elif a % 100 == 0:\n",
    "        result +=2  \n",
    "    elif a % 10 == 0:\n",
    "        result +=1\n",
    "    result -=1\n",
    " \n",
    "print(result/(trials))"
   ]
  },
  {
   "cell_type": "code",
   "execution_count": 20,
   "metadata": {},
   "outputs": [
    {
     "data": {
      "text/plain": [
       "-0.19999999999999996"
      ]
     },
     "execution_count": 20,
     "metadata": {},
     "output_type": "execute_result"
    }
   ],
   "source": [
    "200*1/1000 + 100*1/1000 + 50*1/1000 + 15*1/1000 + 10*1/1000 + 5*9/1000 + 3*90/1000 + 2*10/1000 + 1*90/1000 -1"
   ]
  }
 ],
 "metadata": {
  "kernelspec": {
   "display_name": "Python 3",
   "language": "python",
   "name": "python3"
  },
  "language_info": {
   "codemirror_mode": {
    "name": "ipython",
    "version": 3
   },
   "file_extension": ".py",
   "mimetype": "text/x-python",
   "name": "python",
   "nbconvert_exporter": "python",
   "pygments_lexer": "ipython3",
   "version": "3.8.5"
  }
 },
 "nbformat": 4,
 "nbformat_minor": 4
}
