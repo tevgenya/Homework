{
 "cells": [
  {
   "cell_type": "code",
   "execution_count": 1,
   "id": "825060b4",
   "metadata": {},
   "outputs": [
    {
     "name": "stdout",
     "output_type": "stream",
     "text": [
      "Первая производная по x  4*x*y**3 + y**2 - 1/x**2\n",
      "Первая производная по y  6*x**2*y**2 + 2*x*y\n"
     ]
    }
   ],
   "source": [
    "import sympy as s\n",
    "from scipy.misc import derivative\n",
    "\n",
    "x=s.Symbol('x')\n",
    "y=s.Symbol('y')\n",
    "z_x=s.diff(2*x**2*y**3 + 1/x+ y**2*x+7,x)\n",
    "print('Первая производная по x ',z_x)\n",
    "z_y=s.diff(2*x**2*y**3 + 1/x+ y**2*x+7,y)\n",
    "print('Первая производная по y ',z_y)"
   ]
  },
  {
   "cell_type": "code",
   "execution_count": 5,
   "id": "05c98739",
   "metadata": {},
   "outputs": [
    {
     "data": {
      "text/plain": [
       "array([35.00000024, 28.00000036])"
      ]
     },
     "execution_count": 5,
     "metadata": {},
     "output_type": "execute_result"
    }
   ],
   "source": [
    "from scipy import optimize\n",
    "def func(x):\n",
    "    return 2*x[0]**2*x[1]**3 + 1/x[0]+ x[1]**2*x[0]+7\n",
    "\n",
    "optimize.approx_fprime((1,2), func, 0)"
   ]
  },
  {
   "cell_type": "code",
   "execution_count": 6,
   "id": "996b8122",
   "metadata": {},
   "outputs": [
    {
     "name": "stdout",
     "output_type": "stream",
     "text": [
      "Первая производная по x  2*x*y - 2*x*sin(x**2) - y*cos(x*y)\n",
      "Первая производная по y  x**2 - x*cos(x*y) + 6\n"
     ]
    }
   ],
   "source": [
    "v_x=s.diff(x**2*y -s.sin(x*y)+s.cos(x**2)+6*y,x)\n",
    "print('Первая производная по x ',v_x)\n",
    "v_y=s.diff(x**2*y -s.sin(x*y)+s.cos(x**2)+6*y,y)\n",
    "print('Первая производная по y ',v_y)"
   ]
  },
  {
   "cell_type": "code",
   "execution_count": 7,
   "id": "21ca8a5c",
   "metadata": {},
   "outputs": [],
   "source": [
    "def f(x):\n",
    "    return (x[0]**2) + (x[1]**2)\n"
   ]
  },
  {
   "cell_type": "code",
   "execution_count": 22,
   "id": "3fe08e78",
   "metadata": {},
   "outputs": [],
   "source": [
    "import numpy as np\n",
    "x = np.array([100, 200])\n",
    "learning_rate = 0.1"
   ]
  },
  {
   "cell_type": "code",
   "execution_count": 25,
   "id": "3860ebf9",
   "metadata": {},
   "outputs": [],
   "source": [
    "\n",
    "for i in range(1000):\n",
    "    # Calculate gradient\n",
    "    grad = optimize.approx_fprime(x, f, 0) # Your code here (функция для вычисления градиента есть в лекционном ноутбуке)\n",
    "    x=x-learning_rate*grad\n",
    "    # Update x with gradient\n",
    "   # x = # Your code here (смотри слайд презентации про градиентный спуск)"
   ]
  },
  {
   "cell_type": "code",
   "execution_count": 24,
   "id": "2156006c",
   "metadata": {},
   "outputs": [
    {
     "name": "stdout",
     "output_type": "stream",
     "text": [
      "Минимум достигается в:  [ 8.27842289e-10 -8.27842289e-10]\n",
      "Значение функции в минимуме:  1.3706457094137738e-18\n"
     ]
    }
   ],
   "source": [
    "print(\"Минимум достигается в: \", x)\n",
    "print(\"Значение функции в минимуме: \", f(x))"
   ]
  },
  {
   "cell_type": "code",
   "execution_count": 10,
   "id": "b0b05a4d",
   "metadata": {},
   "outputs": [
    {
     "name": "stdout",
     "output_type": "stream",
     "text": [
      "Optimization terminated successfully.\n",
      "         Current function value: 0.000000\n",
      "         Iterations: 85\n",
      "         Function evaluations: 164\n"
     ]
    },
    {
     "data": {
      "text/plain": [
       " final_simplex: (array([[ 3.31391559e-09, -1.82888492e-09],\n",
       "       [-3.91522747e-09, -3.79451217e-09],\n",
       "       [-4.97134432e-09,  7.91645290e-09]]), array([1.43268566e-17, 2.97273287e-17, 8.73844908e-17]))\n",
       "           fun: 1.4326856592347756e-17\n",
       "       message: 'Optimization terminated successfully.'\n",
       "          nfev: 164\n",
       "           nit: 85\n",
       "        status: 0\n",
       "       success: True\n",
       "             x: array([ 3.31391559e-09, -1.82888492e-09])"
      ]
     },
     "execution_count": 10,
     "metadata": {},
     "output_type": "execute_result"
    }
   ],
   "source": [
    "#Проверка с помощью встроенной функции:\n",
    "from scipy.optimize import minimize\n",
    "minimize(f,x,method='nelder-mead',options={'xtol':1e-8,'disp':True})"
   ]
  }
 ],
 "metadata": {
  "kernelspec": {
   "display_name": "Python 3",
   "language": "python",
   "name": "python3"
  },
  "language_info": {
   "codemirror_mode": {
    "name": "ipython",
    "version": 3
   },
   "file_extension": ".py",
   "mimetype": "text/x-python",
   "name": "python",
   "nbconvert_exporter": "python",
   "pygments_lexer": "ipython3",
   "version": "3.8.8"
  }
 },
 "nbformat": 4,
 "nbformat_minor": 5
}
