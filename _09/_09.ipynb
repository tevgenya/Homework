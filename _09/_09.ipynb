{
 "cells": [
  {
   "cell_type": "code",
   "execution_count": 34,
   "metadata": {},
   "outputs": [
    {
     "name": "stdout",
     "output_type": "stream",
     "text": [
      "Номер  АВ222С  валиден. Регион:  96\n"
     ]
    }
   ],
   "source": [
    "import re\n",
    "#2 буква, 3 цифры, 1 буквы, 2-3 цифры\n",
    "car_id = 'АВ222С96'\n",
    "template = r'([А, В, Е, К, М, Н, О, Р, С, Т, У, Х]{2}\\d{3}[А, В, Е, К, М, Н, О, Р, С, Т, У, Х])(\\d{2,3})'\n",
    "a = re.search(template,car_id)\n",
    "if a == None:\n",
    "    print ('Номер не валиден')\n",
    "else:\n",
    "    print ('Номер ',a.group(1),' валиден. Регион: ', a.group(2))    "
   ]
  },
  {
   "cell_type": "code",
   "execution_count": 97,
   "metadata": {},
   "outputs": [
    {
     "data": {
      "text/plain": [
       "'Напишите функцию  которая будет удалять все последовательные повторы слов из заданной строки при помощи регулярных выражений'"
      ]
     },
     "execution_count": 97,
     "metadata": {},
     "output_type": "execute_result"
    }
   ],
   "source": [
    "some_string = 'Напишите функцию функцию, которая будет будет будет будет удалять все все все все последовательные повторы слов из из из из заданной строки строки при помощи регулярных выражений'\n",
    "\n",
    "re.sub(r'(\\w+)\\W(\\1\\W)+',r'\\1 ',some_string)"
   ]
  },
  {
   "cell_type": "code",
   "execution_count": 101,
   "metadata": {},
   "outputs": [
    {
     "name": "stdout",
     "output_type": "stream",
     "text": [
      "NFC\n"
     ]
    }
   ],
   "source": [
    "some_words = 'Near Field Communication'\n",
    "list_words = re.findall(r'\\w+',some_words)\n",
    "res=''\n",
    "for word in list_words:\n",
    "    res+=word[0].upper()\n",
    "print(res)   "
   ]
  },
  {
   "cell_type": "code",
   "execution_count": 112,
   "metadata": {},
   "outputs": [
    {
     "name": "stdout",
     "output_type": "stream",
     "text": [
      "Ит\n"
     ]
    }
   ],
   "source": [
    "some_words = 'Информационные технологии'\n",
    "list_words = re.sub(r'(\\w)\\w*\\s*',r'\\1',some_words)\n",
    "print(list_words) "
   ]
  },
  {
   "cell_type": "code",
   "execution_count": 135,
   "metadata": {},
   "outputs": [
    {
     "name": "stdout",
     "output_type": "stream",
     "text": [
      "{'gmail.com': 2, 'test.in': 1, 'ya.ru': 2, 'mail.ru': 1}\n"
     ]
    }
   ],
   "source": [
    "emails = ['test@gmail.com', 'xyz@test.in', 'test@ya.ru', 'xyz@mail.ru', 'xyz@ya.ru', 'xyz@gmail.com']\n",
    "my_dict={}\n",
    "for email in emails:\n",
    "    domain = re.findall(r'(?<=@)\\w+\\.\\w+', email)\n",
    "    if domain[0] in my_dict:\n",
    "        my_dict[domain[0]] +=1\n",
    "    else: \n",
    "        my_dict[domain[0]] = 1\n",
    "print(my_dict)"
   ]
  },
  {
   "cell_type": "code",
   "execution_count": 151,
   "metadata": {},
   "outputs": [
    {
     "name": "stdout",
     "output_type": "stream",
     "text": [
      "{'gmail.com': 2, 'test.in': 1, 'ya.ru': 2, 'mail.ru': 1}\n"
     ]
    }
   ],
   "source": [
    "emails = 'test@gmail.com, xyz@test.in, test@ya.ru, xyz@mail.ru, xyz@ya.ru, xyz@gmail.com'\n",
    "a = re.findall(r'(?<=@)\\w+\\.\\w+', emails)\n",
    "my_dict={}\n",
    "for element in a:\n",
    "    if element in my_dict:\n",
    "        my_dict[element] +=1\n",
    "    else: \n",
    "        my_dict[element] = 1\n",
    "print(my_dict)\n",
    "    "
   ]
  }
 ],
 "metadata": {
  "kernelspec": {
   "display_name": "Python 3",
   "language": "python",
   "name": "python3"
  },
  "language_info": {
   "codemirror_mode": {
    "name": "ipython",
    "version": 3
   },
   "file_extension": ".py",
   "mimetype": "text/x-python",
   "name": "python",
   "nbconvert_exporter": "python",
   "pygments_lexer": "ipython3",
   "version": "3.8.5"
  }
 },
 "nbformat": 4,
 "nbformat_minor": 4
}
