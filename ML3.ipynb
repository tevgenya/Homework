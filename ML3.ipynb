{
 "cells": [
  {
   "cell_type": "code",
   "execution_count": 28,
   "id": "92cbc2ce",
   "metadata": {},
   "outputs": [
    {
     "data": {
      "text/html": [
       "<div>\n",
       "<style scoped>\n",
       "    .dataframe tbody tr th:only-of-type {\n",
       "        vertical-align: middle;\n",
       "    }\n",
       "\n",
       "    .dataframe tbody tr th {\n",
       "        vertical-align: top;\n",
       "    }\n",
       "\n",
       "    .dataframe thead th {\n",
       "        text-align: right;\n",
       "    }\n",
       "</style>\n",
       "<table border=\"1\" class=\"dataframe\">\n",
       "  <thead>\n",
       "    <tr style=\"text-align: right;\">\n",
       "      <th></th>\n",
       "      <th>sepal length (cm)</th>\n",
       "      <th>sepal width (cm)</th>\n",
       "      <th>petal length (cm)</th>\n",
       "      <th>petal width (cm)</th>\n",
       "      <th>target</th>\n",
       "    </tr>\n",
       "  </thead>\n",
       "  <tbody>\n",
       "    <tr>\n",
       "      <th>50</th>\n",
       "      <td>7.0</td>\n",
       "      <td>3.2</td>\n",
       "      <td>4.7</td>\n",
       "      <td>1.4</td>\n",
       "      <td>1</td>\n",
       "    </tr>\n",
       "    <tr>\n",
       "      <th>51</th>\n",
       "      <td>6.4</td>\n",
       "      <td>3.2</td>\n",
       "      <td>4.5</td>\n",
       "      <td>1.5</td>\n",
       "      <td>1</td>\n",
       "    </tr>\n",
       "    <tr>\n",
       "      <th>52</th>\n",
       "      <td>6.9</td>\n",
       "      <td>3.1</td>\n",
       "      <td>4.9</td>\n",
       "      <td>1.5</td>\n",
       "      <td>1</td>\n",
       "    </tr>\n",
       "    <tr>\n",
       "      <th>53</th>\n",
       "      <td>5.5</td>\n",
       "      <td>2.3</td>\n",
       "      <td>4.0</td>\n",
       "      <td>1.3</td>\n",
       "      <td>1</td>\n",
       "    </tr>\n",
       "    <tr>\n",
       "      <th>54</th>\n",
       "      <td>6.5</td>\n",
       "      <td>2.8</td>\n",
       "      <td>4.6</td>\n",
       "      <td>1.5</td>\n",
       "      <td>1</td>\n",
       "    </tr>\n",
       "    <tr>\n",
       "      <th>...</th>\n",
       "      <td>...</td>\n",
       "      <td>...</td>\n",
       "      <td>...</td>\n",
       "      <td>...</td>\n",
       "      <td>...</td>\n",
       "    </tr>\n",
       "    <tr>\n",
       "      <th>145</th>\n",
       "      <td>6.7</td>\n",
       "      <td>3.0</td>\n",
       "      <td>5.2</td>\n",
       "      <td>2.3</td>\n",
       "      <td>2</td>\n",
       "    </tr>\n",
       "    <tr>\n",
       "      <th>146</th>\n",
       "      <td>6.3</td>\n",
       "      <td>2.5</td>\n",
       "      <td>5.0</td>\n",
       "      <td>1.9</td>\n",
       "      <td>2</td>\n",
       "    </tr>\n",
       "    <tr>\n",
       "      <th>147</th>\n",
       "      <td>6.5</td>\n",
       "      <td>3.0</td>\n",
       "      <td>5.2</td>\n",
       "      <td>2.0</td>\n",
       "      <td>2</td>\n",
       "    </tr>\n",
       "    <tr>\n",
       "      <th>148</th>\n",
       "      <td>6.2</td>\n",
       "      <td>3.4</td>\n",
       "      <td>5.4</td>\n",
       "      <td>2.3</td>\n",
       "      <td>2</td>\n",
       "    </tr>\n",
       "    <tr>\n",
       "      <th>149</th>\n",
       "      <td>5.9</td>\n",
       "      <td>3.0</td>\n",
       "      <td>5.1</td>\n",
       "      <td>1.8</td>\n",
       "      <td>2</td>\n",
       "    </tr>\n",
       "  </tbody>\n",
       "</table>\n",
       "<p>100 rows × 5 columns</p>\n",
       "</div>"
      ],
      "text/plain": [
       "     sepal length (cm)  sepal width (cm)  petal length (cm)  petal width (cm)  \\\n",
       "50                 7.0               3.2                4.7               1.4   \n",
       "51                 6.4               3.2                4.5               1.5   \n",
       "52                 6.9               3.1                4.9               1.5   \n",
       "53                 5.5               2.3                4.0               1.3   \n",
       "54                 6.5               2.8                4.6               1.5   \n",
       "..                 ...               ...                ...               ...   \n",
       "145                6.7               3.0                5.2               2.3   \n",
       "146                6.3               2.5                5.0               1.9   \n",
       "147                6.5               3.0                5.2               2.0   \n",
       "148                6.2               3.4                5.4               2.3   \n",
       "149                5.9               3.0                5.1               1.8   \n",
       "\n",
       "     target  \n",
       "50        1  \n",
       "51        1  \n",
       "52        1  \n",
       "53        1  \n",
       "54        1  \n",
       "..      ...  \n",
       "145       2  \n",
       "146       2  \n",
       "147       2  \n",
       "148       2  \n",
       "149       2  \n",
       "\n",
       "[100 rows x 5 columns]"
      ]
     },
     "execution_count": 28,
     "metadata": {},
     "output_type": "execute_result"
    }
   ],
   "source": [
    "from sklearn import datasets\n",
    "import pandas as pd\n",
    "iris = datasets.load_iris()\n",
    "data=pd.DataFrame(iris.data)\n",
    "data.columns=iris.feature_names\n",
    "data['target']=iris.target\n",
    "data1=data[data['target']!=0]\n",
    "\n",
    "\n",
    "data1.head(100)"
   ]
  },
  {
   "cell_type": "code",
   "execution_count": 123,
   "id": "bedae5d0",
   "metadata": {},
   "outputs": [
    {
     "data": {
      "text/html": [
       "<div>\n",
       "<style scoped>\n",
       "    .dataframe tbody tr th:only-of-type {\n",
       "        vertical-align: middle;\n",
       "    }\n",
       "\n",
       "    .dataframe tbody tr th {\n",
       "        vertical-align: top;\n",
       "    }\n",
       "\n",
       "    .dataframe thead th {\n",
       "        text-align: right;\n",
       "    }\n",
       "</style>\n",
       "<table border=\"1\" class=\"dataframe\">\n",
       "  <thead>\n",
       "    <tr style=\"text-align: right;\">\n",
       "      <th></th>\n",
       "      <th>sepal length (cm)</th>\n",
       "      <th>sepal width (cm)</th>\n",
       "      <th>petal length (cm)</th>\n",
       "      <th>petal width (cm)</th>\n",
       "      <th>target</th>\n",
       "    </tr>\n",
       "  </thead>\n",
       "  <tbody>\n",
       "    <tr>\n",
       "      <th>50</th>\n",
       "      <td>7.0</td>\n",
       "      <td>3.2</td>\n",
       "      <td>4.7</td>\n",
       "      <td>1.4</td>\n",
       "      <td>1.0</td>\n",
       "    </tr>\n",
       "    <tr>\n",
       "      <th>51</th>\n",
       "      <td>6.4</td>\n",
       "      <td>3.2</td>\n",
       "      <td>4.5</td>\n",
       "      <td>1.5</td>\n",
       "      <td>1.0</td>\n",
       "    </tr>\n",
       "    <tr>\n",
       "      <th>52</th>\n",
       "      <td>6.9</td>\n",
       "      <td>3.1</td>\n",
       "      <td>4.9</td>\n",
       "      <td>1.5</td>\n",
       "      <td>1.0</td>\n",
       "    </tr>\n",
       "    <tr>\n",
       "      <th>53</th>\n",
       "      <td>5.5</td>\n",
       "      <td>2.3</td>\n",
       "      <td>4.0</td>\n",
       "      <td>1.3</td>\n",
       "      <td>1.0</td>\n",
       "    </tr>\n",
       "    <tr>\n",
       "      <th>54</th>\n",
       "      <td>6.5</td>\n",
       "      <td>2.8</td>\n",
       "      <td>4.6</td>\n",
       "      <td>1.5</td>\n",
       "      <td>1.0</td>\n",
       "    </tr>\n",
       "    <tr>\n",
       "      <th>...</th>\n",
       "      <td>...</td>\n",
       "      <td>...</td>\n",
       "      <td>...</td>\n",
       "      <td>...</td>\n",
       "      <td>...</td>\n",
       "    </tr>\n",
       "    <tr>\n",
       "      <th>145</th>\n",
       "      <td>6.7</td>\n",
       "      <td>3.0</td>\n",
       "      <td>5.2</td>\n",
       "      <td>2.3</td>\n",
       "      <td>0.0</td>\n",
       "    </tr>\n",
       "    <tr>\n",
       "      <th>146</th>\n",
       "      <td>6.3</td>\n",
       "      <td>2.5</td>\n",
       "      <td>5.0</td>\n",
       "      <td>1.9</td>\n",
       "      <td>0.0</td>\n",
       "    </tr>\n",
       "    <tr>\n",
       "      <th>147</th>\n",
       "      <td>6.5</td>\n",
       "      <td>3.0</td>\n",
       "      <td>5.2</td>\n",
       "      <td>2.0</td>\n",
       "      <td>0.0</td>\n",
       "    </tr>\n",
       "    <tr>\n",
       "      <th>148</th>\n",
       "      <td>6.2</td>\n",
       "      <td>3.4</td>\n",
       "      <td>5.4</td>\n",
       "      <td>2.3</td>\n",
       "      <td>0.0</td>\n",
       "    </tr>\n",
       "    <tr>\n",
       "      <th>149</th>\n",
       "      <td>5.9</td>\n",
       "      <td>3.0</td>\n",
       "      <td>5.1</td>\n",
       "      <td>1.8</td>\n",
       "      <td>0.0</td>\n",
       "    </tr>\n",
       "  </tbody>\n",
       "</table>\n",
       "<p>100 rows × 5 columns</p>\n",
       "</div>"
      ],
      "text/plain": [
       "     sepal length (cm)  sepal width (cm)  petal length (cm)  petal width (cm)  \\\n",
       "50                 7.0               3.2                4.7               1.4   \n",
       "51                 6.4               3.2                4.5               1.5   \n",
       "52                 6.9               3.1                4.9               1.5   \n",
       "53                 5.5               2.3                4.0               1.3   \n",
       "54                 6.5               2.8                4.6               1.5   \n",
       "..                 ...               ...                ...               ...   \n",
       "145                6.7               3.0                5.2               2.3   \n",
       "146                6.3               2.5                5.0               1.9   \n",
       "147                6.5               3.0                5.2               2.0   \n",
       "148                6.2               3.4                5.4               2.3   \n",
       "149                5.9               3.0                5.1               1.8   \n",
       "\n",
       "     target  \n",
       "50      1.0  \n",
       "51      1.0  \n",
       "52      1.0  \n",
       "53      1.0  \n",
       "54      1.0  \n",
       "..      ...  \n",
       "145     0.0  \n",
       "146     0.0  \n",
       "147     0.0  \n",
       "148     0.0  \n",
       "149     0.0  \n",
       "\n",
       "[100 rows x 5 columns]"
      ]
     },
     "execution_count": 123,
     "metadata": {},
     "output_type": "execute_result"
    }
   ],
   "source": [
    "def y_0_1(row):\n",
    "    if row['target']==2:\n",
    "        row['target']=0\n",
    "    return row\n",
    "\n",
    "\n",
    "data2=data1.apply(y_0_1, axis=1)\n",
    "data2"
   ]
  },
  {
   "cell_type": "code",
   "execution_count": 127,
   "id": "800e6bdf",
   "metadata": {},
   "outputs": [],
   "source": [
    "y=data2['target']\n",
    "x=data1.filter(['petal length (cm)','petal width (cm)'], axis=1)"
   ]
  },
  {
   "cell_type": "code",
   "execution_count": 128,
   "id": "57336a82",
   "metadata": {},
   "outputs": [
    {
     "data": {
      "text/plain": [
       "0.95"
      ]
     },
     "execution_count": 128,
     "metadata": {},
     "output_type": "execute_result"
    }
   ],
   "source": [
    "from sklearn.linear_model import  LogisticRegression\n",
    "model= LogisticRegression()\n",
    "\n",
    "#from sklearn.model_selection import train_test_split\n",
    "#X_train, X_test, Y_train, Y_test = train_test_split(sc,y,test_size=0.25, random_state=40)\n",
    "\n",
    "model.fit(x,y)\n",
    "y_pred=model.predict(x)\n",
    "model.score(x,y)"
   ]
  },
  {
   "cell_type": "code",
   "execution_count": 129,
   "id": "d15579ac",
   "metadata": {},
   "outputs": [
    {
     "data": {
      "text/plain": [
       "array([[-2.77743512, -2.38548149]])"
      ]
     },
     "execution_count": 129,
     "metadata": {},
     "output_type": "execute_result"
    }
   ],
   "source": [
    "model.coef_"
   ]
  },
  {
   "cell_type": "code",
   "execution_count": 130,
   "id": "c1ebca24",
   "metadata": {},
   "outputs": [
    {
     "data": {
      "text/plain": [
       "array([17.5471049])"
      ]
     },
     "execution_count": 130,
     "metadata": {},
     "output_type": "execute_result"
    }
   ],
   "source": [
    "model. intercept_"
   ]
  },
  {
   "cell_type": "code",
   "execution_count": 131,
   "id": "838d8e48",
   "metadata": {},
   "outputs": [
    {
     "data": {
      "text/plain": [
       "<matplotlib.collections.PathCollection at 0x14dd84c2850>"
      ]
     },
     "execution_count": 131,
     "metadata": {},
     "output_type": "execute_result"
    },
    {
     "data": {
      "image/png": "[encoded data removed]",
      "text/plain": [
       "<Figure size 432x288 with 1 Axes>"
      ]
     },
     "metadata": {
      "needs_background": "light"
     },
     "output_type": "display_data"
    }
   ],
   "source": [
    "import matplotlib.pyplot as plt\n",
    "import numpy as np\n",
    "plt.scatter(x['petal length (cm)'],x['petal width (cm)'],c=y)\n",
    "v=np.linspace(3,7,100)\n",
    "w=(17.5471049-2.77743512*v)/2.38548149\n",
    "plt.scatter(v,w)"
   ]
  },
  {
   "cell_type": "code",
   "execution_count": null,
   "id": "8f4a73b8",
   "metadata": {},
   "outputs": [],
   "source": []
  },
  {
   "cell_type": "code",
   "execution_count": 188,
   "id": "c1d38e85",
   "metadata": {},
   "outputs": [],
   "source": [
    "import math\n",
    "from scipy import optimize\n",
    "y=np.array(y)\n",
    "x=np.array(x)"
   ]
  },
  {
   "cell_type": "code",
   "execution_count": 193,
   "id": "4fb7aebe",
   "metadata": {},
   "outputs": [],
   "source": [
    "def p(f):\n",
    "    return 1/(1+math.exp(-f))\n",
    "\n",
    "def lin(th,x0,x1):\n",
    "    return th[0] + th[1]*x0 + th[2]*x1\n",
    "\n",
    "def cost_function(theta):\n",
    "    total_cost = 0\n",
    "    for i in range(len(x)):\n",
    "        total_cost += y[i]*math.log(p(lin(theta,x[i,0],x[i,1]))) +(1-y[i])*math.log(1-p(lin(theta,x[i,0],x[i,1])))\n",
    "    return -total_cost\n",
    "\n"
   ]
  },
  {
   "cell_type": "code",
   "execution_count": 194,
   "id": "56ad33a9",
   "metadata": {},
   "outputs": [
    {
     "name": "stdout",
     "output_type": "stream",
     "text": [
      "t- [0.94885915 1.72359007 1.89814978] cost: 718.1961693835754\n",
      "t- [0.89885319 1.44596079 1.79665155] cost: 628.3490642776814\n",
      "t- [0.84887502 1.16834691 1.69533906] cost: 538.5386914284651\n",
      "t- [0.79889911 0.89083933 1.59406711] cost: 448.80743183020064\n",
      "t- [0.74898502 0.61359014 1.49287634] cost: 359.3338682407027\n",
      "t- [0.69930754 0.33734121 1.39200138] cost: 270.87716361789853\n",
      "t- [0.65055114 0.06514912 1.29242151] cost: 186.49118165718093\n",
      "t- [ 0.6053527  -0.19067777  1.19814399] cost: 116.79142500994567\n",
      "t- [ 0.57175019 -0.39065323  1.12229505] cost: 80.76965663801062\n",
      "t- [ 0.55890545 -0.48721675  1.08128317] cost: 73.34587458379974\n",
      "t- [ 0.55938056 -0.51670991  1.06325024] cost: 72.53429704122166\n",
      "t- [ 0.56412304 -0.52470108  1.05264822] cost: 72.36995503885466\n",
      "t- [ 0.57013271 -0.52628995  1.04427257] cost: 72.26445510320019\n",
      "t- [ 0.57652523 -0.52592275  1.03658646] cost: 72.1647572508165\n",
      "t- [ 0.5830315  -0.52495192  1.02912203] cost: 72.06586357449343\n",
      "t- [ 0.58956833 -0.52379541  1.02173466] cost: 71.96729339682288\n",
      "t- [ 0.59610991 -0.52258306  1.0143794 ] cost: 71.86899965278333\n",
      "t- [ 0.60264819 -0.52135525  1.00704227] cost: 71.77097715453522\n",
      "t- [ 0.60918069 -0.52012456  0.99971891] cost: 71.67322479090365\n",
      "t- [ 0.61570663 -0.51889488  0.99240794] cost: 71.57574181196969\n",
      "t- [ 0.62222577 -0.51766743  0.98510893] cost: 71.47852754574012\n",
      "t- [ 0.62873806 -0.51644259  0.97782175] cost: 71.38158131420916\n",
      "t- [ 0.63524347 -0.51522047  0.97054633] cost: 71.28490241494782\n",
      "t- [ 0.64174199 -0.5140011   0.96328264] cost: 71.18849017169421\n",
      "t- [ 0.64823365 -0.51278448  0.95603068] cost: 71.09234385873235\n",
      "t- [ 0.65471844 -0.51157063  0.94879042] cost: 70.99646283866937\n",
      "t- [ 0.66119637 -0.51035954  0.94156185] cost: 70.900846379803\n",
      "t- [ 0.66766745 -0.50915121  0.93434496] cost: 70.80549385331581\n",
      "t- [ 0.67413169 -0.50794563  0.92713973] cost: 70.71040448140894\n",
      "t- [ 0.68058909 -0.5067428   0.91994616] cost: 70.61557763265348\n",
      "t- [ 0.68703966 -0.50554272  0.91276421] cost: 70.52101261398708\n",
      "t- [ 0.69348341 -0.50434538  0.90559389] cost: 70.42670874841366\n",
      "t- [ 0.69992035 -0.50315078  0.89843517] cost: 70.33266533206587\n",
      "t- [ 0.70635048 -0.50195891  0.89128805] cost: 70.23888166011974\n",
      "t- [ 0.71277381 -0.50076978  0.8841525 ] cost: 70.14535707393311\n",
      "t- [ 0.71919035 -0.49958338  0.87702852] cost: 70.05209089080435\n",
      "t- [ 0.72560011 -0.4983997   0.86991608] cost: 69.95908240166398\n",
      "t- [ 0.7320031  -0.49721875  0.86281518] cost: 69.8663309473081\n",
      "t- [ 0.73839931 -0.49604052  0.8557258 ] cost: 69.77383582704728\n",
      "t- [ 0.74478877 -0.494865    0.84864793] cost: 69.68159631573334\n",
      "t- [ 0.75117148 -0.4936922   0.84158154] cost: 69.58961175974893\n",
      "t- [ 0.75754744 -0.49252211  0.83452663] cost: 69.49788146889887\n",
      "t- [ 0.76391666 -0.49135471  0.82748318] cost: 69.40640477718317\n",
      "t- [ 0.77027916 -0.49019003  0.82045117] cost: 69.31518096534323\n",
      "t- [ 0.77663494 -0.48902804  0.81343059] cost: 69.22420934987771\n",
      "t- [ 0.782984   -0.48786874  0.80642143] cost: 69.13348929590549\n",
      "t- [ 0.78932635 -0.48671214  0.79942368] cost: 69.04302009499546\n",
      "t- [ 0.79566202 -0.48555822  0.7924373 ] cost: 68.9528010458078\n",
      "t- [ 0.80199099 -0.48440699  0.7854623 ] cost: 68.86283147986728\n",
      "t- [ 0.80831329 -0.48325844  0.77849866] cost: 68.77311068971815\n"
     ]
    }
   ],
   "source": [
    "EPOCHS = 50\n",
    "LEARNING_RATE = 0.001\n",
    "theta = (1,2,2)\n",
    "for _ in range(EPOCHS):\n",
    "    grad=optimize.approx_fprime(theta, cost_function, 0)    \n",
    "    theta = theta - LEARNING_RATE * grad    \n",
    "    print(\"t-\", theta, \"cost:\", cost_function(theta))"
   ]
  },
  {
   "cell_type": "code",
   "execution_count": 186,
   "id": "8626fef9",
   "metadata": {},
   "outputs": [
    {
     "data": {
      "text/plain": [
       "<matplotlib.collections.PathCollection at 0x14dd9686c40>"
      ]
     },
     "execution_count": 186,
     "metadata": {},
     "output_type": "execute_result"
    },
    {
     "data": {
      "image/png": "[encoded data removed]",
      "text/plain": [
       "<Figure size 432x288 with 1 Axes>"
      ]
     },
     "metadata": {
      "needs_background": "light"
     },
     "output_type": "display_data"
    }
   ],
   "source": [
    "plt.scatter(x[:,0],x[:,1], c=y)\n",
    "v=np.linspace(3,7,100)\n",
    "w=(-0.80831329+0.48325844*v)/ 0.77849866\n",
    "plt.scatter(v,w)"
   ]
  },
  {
   "cell_type": "code",
   "execution_count": null,
   "id": "b1627c06",
   "metadata": {},
   "outputs": [],
   "source": []
  }
 ],
 "metadata": {
  "kernelspec": {
   "display_name": "Python 3",
   "language": "python",
   "name": "python3"
  },
  "language_info": {
   "codemirror_mode": {
    "name": "ipython",
    "version": 3
   },
   "file_extension": ".py",
   "mimetype": "text/x-python",
   "name": "python",
   "nbconvert_exporter": "python",
   "pygments_lexer": "ipython3",
   "version": "3.8.8"
  }
 },
 "nbformat": 4,
 "nbformat_minor": 5
}
