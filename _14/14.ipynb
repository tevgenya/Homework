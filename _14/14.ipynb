{
 "cells": [
  {
   "cell_type": "code",
   "execution_count": 5,
   "metadata": {},
   "outputs": [],
   "source": [
    "from bs4 import BeautifulSoup\n",
    "import requests\n",
    "\n",
    "def  all_links(param_KEYWORDS,page):\n",
    "    links = []\n",
    "    #формируем поисковый запрос\n",
    "    str_KEYWORD = ''\n",
    "    for element in param_KEYWORDS:\n",
    "          str_KEYWORD  =  str_KEYWORD + '+' +element       \n",
    "    params = {\n",
    "          'q': str_KEYWORD\n",
    "               }\n",
    "    \n",
    "    #проходим по всем страницам\n",
    "    for i in range(page):\n",
    "        if i+1 == 1:\n",
    "            URL = 'https://habr.com/ru/search/'\n",
    "        else:\n",
    "            URL = 'https://habr.com/ru/search/page' + str(i+1)   \n",
    "        \n",
    "        res = requests.get(URL, params)\n",
    "    \n",
    "        #формируем список ссылок\n",
    "        soup = BeautifulSoup(res.text)\n",
    "        news_blocks = soup.find_all('article', class_='post post_preview')\n",
    "        links += [news_block.find('a',class_='post__title_link').get('href') for news_block in news_blocks ]\n",
    " \n",
    "    return links "
   ]
  },
  {
   "cell_type": "code",
   "execution_count": 6,
   "metadata": {},
   "outputs": [
    {
     "data": {
      "text/html": [
       "<div>\n",
       "<style scoped>\n",
       "    .dataframe tbody tr th:only-of-type {\n",
       "        vertical-align: middle;\n",
       "    }\n",
       "\n",
       "    .dataframe tbody tr th {\n",
       "        vertical-align: top;\n",
       "    }\n",
       "\n",
       "    .dataframe thead th {\n",
       "        text-align: right;\n",
       "    }\n",
       "</style>\n",
       "<table border=\"1\" class=\"dataframe\">\n",
       "  <thead>\n",
       "    <tr style=\"text-align: right;\">\n",
       "      <th></th>\n",
       "      <th>index</th>\n",
       "      <th>date</th>\n",
       "      <th>title</th>\n",
       "    </tr>\n",
       "  </thead>\n",
       "  <tbody>\n",
       "    <tr>\n",
       "      <th>0</th>\n",
       "      <td>0</td>\n",
       "      <td>2011-09-02</td>\n",
       "      <td>Grab — python библиотека для парсинга сайтов</td>\n",
       "    </tr>\n",
       "    <tr>\n",
       "      <th>1</th>\n",
       "      <td>0</td>\n",
       "      <td>2020-07-23</td>\n",
       "      <td>Как проанализировать рынок фотостудий с помощь...</td>\n",
       "    </tr>\n",
       "    <tr>\n",
       "      <th>2</th>\n",
       "      <td>0</td>\n",
       "      <td>2014-10-03</td>\n",
       "      <td>Парсим на Python: Pyparsing для новичков</td>\n",
       "    </tr>\n",
       "    <tr>\n",
       "      <th>3</th>\n",
       "      <td>0</td>\n",
       "      <td>2019-05-07</td>\n",
       "      <td>Парсинг сайтов — а это вообще легально в России?</td>\n",
       "    </tr>\n",
       "    <tr>\n",
       "      <th>4</th>\n",
       "      <td>0</td>\n",
       "      <td>2018-08-24</td>\n",
       "      <td>Новые курсы по Python от Mail.Ru Group</td>\n",
       "    </tr>\n",
       "  </tbody>\n",
       "</table>\n",
       "</div>"
      ],
      "text/plain": [
       "   index        date                                              title\n",
       "0      0  2011-09-02       Grab — python библиотека для парсинга сайтов\n",
       "1      0  2020-07-23  Как проанализировать рынок фотостудий с помощь...\n",
       "2      0  2014-10-03           Парсим на Python: Pyparsing для новичков\n",
       "3      0  2019-05-07   Парсинг сайтов — а это вообще легально в России?\n",
       "4      0  2018-08-24             Новые курсы по Python от Mail.Ru Group"
      ]
     },
     "execution_count": 6,
     "metadata": {},
     "output_type": "execute_result"
    }
   ],
   "source": [
    "import pandas as pd\n",
    "KEYWORDS = ['python', 'парсинг']\n",
    "page_num=int(35)\n",
    "\n",
    "kom_news = pd.DataFrame()\n",
    "\n",
    "for link in all_links(KEYWORDS,2):\n",
    "    soup = BeautifulSoup(requests.get(link).text)\n",
    "    date = pd.to_datetime(soup.find('span', class_='post__time').get('data-time_published'), dayfirst=True).date()\n",
    "    title = soup.find('span', class_='post__title-text').text\n",
    "  #  text = soup.find('div', class_='post__body post__body_full').text\n",
    "    \n",
    "    row = {'date': date, 'title': title}#, 'text': text}\n",
    "    kom_news = pd.concat([kom_news, pd.DataFrame([row])])\n",
    "kom_news.reset_index().head(5)"
   ]
  },
  {
   "cell_type": "code",
   "execution_count": 49,
   "metadata": {},
   "outputs": [
    {
     "data": {
      "text/plain": [
       "400"
      ]
     },
     "execution_count": 49,
     "metadata": {},
     "output_type": "execute_result"
    }
   ],
   "source": [
    "#EMAIL = [xxx@x.ru, yyy@y.com]\n",
    "import json\n",
    "payload = {'emailAddresses': 'tevgenya21@gmail.com'}\n",
    "headers = {\n",
    "    'user-agent': 'Mozilla/5.0 (Windows NT 10.0; Win64; x64) AppleWebKit/537.36 (KHTML, like Gecko) Chrome/89.0.4389.90 Safari/537.36'\n",
    "}\n",
    "URL = 'https://identityprotection.avast.com/v1/web/query/site-breaches/unauthorized-data'\n",
    "res = requests.post(URL,data=payload, headers=headers)\n",
    "res.status_code"
   ]
  }
 ],
 "metadata": {
  "kernelspec": {
   "display_name": "Python 3",
   "language": "python",
   "name": "python3"
  },
  "language_info": {
   "codemirror_mode": {
    "name": "ipython",
    "version": 3
   },
   "file_extension": ".py",
   "mimetype": "text/x-python",
   "name": "python",
   "nbconvert_exporter": "python",
   "pygments_lexer": "ipython3",
   "version": "3.8.5"
  }
 },
 "nbformat": 4,
 "nbformat_minor": 4
}
