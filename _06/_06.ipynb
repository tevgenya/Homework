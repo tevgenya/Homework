{
 "cells": [
  {
   "cell_type": "code",
   "execution_count": 54,
   "metadata": {},
   "outputs": [
    {
     "name": "stdout",
     "output_type": "stream",
     "text": [
      "('1840e0b9d4', 'Продукты')\n",
      "('4e4f90fcfb', 'Электроника')\n",
      "('afea8d72fc', 'Электроника')\n",
      "('373a6055fe', 'Бытовая техника')\n",
      "('9b2ab046f3', 'Электроника')\n",
      "('9f39d307c3', 'Электроника')\n"
     ]
    }
   ],
   "source": [
    "import json\n",
    "with open('C:/Users/etokarev/OneDrive - Philip Morris International/Desktop/private/Netology/Python/Homework/_06/purchase_log.txt','r',encoding=\"utf-8\") as f:\n",
    "    content_f=f.readlines()\n",
    "    content_f=content_f[1:len(content_f)]\n",
    "    new_dict={}\n",
    "    for line in content_f:\n",
    "        my_dict = json.loads(line)\n",
    "        new_dict[my_dict['user_id']]=my_dict['category']\n",
    "\n",
    "    i = 0\n",
    "    for element in new_dict.items():\n",
    "        print(element)\n",
    "        i += 1\n",
    "        if i>5:\n",
    "            break\n",
    "              "
   ]
  },
  {
   "cell_type": "code",
   "execution_count": 68,
   "metadata": {},
   "outputs": [
    {
     "name": "stdout",
     "output_type": "stream",
     "text": [
      "1840e0b9d4,other, Продукты\n",
      "\n",
      "4e4f90fcfb,context, Электроника\n",
      "\n",
      "afea8d72fc,other, Электроника\n",
      "\n",
      "2824221f38,email, Продукты\n",
      "\n",
      "373a6055fe,other, Бытовая техника\n",
      "\n",
      "9b2ab046f3,other, Электроника\n",
      "\n"
     ]
    }
   ],
   "source": [
    "\n",
    "with open('C:/Users/etokarev/OneDrive - Philip Morris International/Desktop/private/Netology/Python/Homework/_06/visit_log.csv','r',encoding=\"utf-8\") as f:\n",
    "    with open('funnel.csv', 'w') as r:\n",
    "        for line in f:\n",
    "            line_split = line.strip().split(',')\n",
    "            a =line_split[0]\n",
    "            b = new_dict.get(a,'Not found')\n",
    "            if b != 'Not found':\n",
    "                c = line.strip() +  ', ' + b + '\\n'\n",
    "                r.write(c)\n",
    "   \n",
    "\n",
    "with open('funnel.csv', 'r') as r:\n",
    "        i=0\n",
    "        for line in r:\n",
    "            print(line)\n",
    "            i += 1\n",
    "            if i>5:\n",
    "                break\n",
    "        "
   ]
  }
 ],
 "metadata": {
  "kernelspec": {
   "display_name": "Python 3",
   "language": "python",
   "name": "python3"
  },
  "language_info": {
   "codemirror_mode": {
    "name": "ipython",
    "version": 3
   },
   "file_extension": ".py",
   "mimetype": "text/x-python",
   "name": "python",
   "nbconvert_exporter": "python",
   "pygments_lexer": "ipython3",
   "version": "3.8.5"
  }
 },
 "nbformat": 4,
 "nbformat_minor": 4
}
