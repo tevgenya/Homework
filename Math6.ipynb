{
 "cells": [
  {
   "cell_type": "markdown",
   "id": "87668300",
   "metadata": {},
   "source": [
    "Уровень 0\n",
    "Задание 1\n",
    "Верояиность выпадание орла 0,5\n",
    "Простые числа 2,3,5,7,11,13"
   ]
  },
  {
   "cell_type": "code",
   "execution_count": 3,
   "id": "fd601b44",
   "metadata": {},
   "outputs": [],
   "source": [
    "n=[2,3,5,7,11,13]\n",
    "m=15"
   ]
  },
  {
   "cell_type": "code",
   "execution_count": 9,
   "id": "50597e54",
   "metadata": {},
   "outputs": [],
   "source": [
    "import math\n",
    "sum=0"
   ]
  },
  {
   "cell_type": "code",
   "execution_count": 10,
   "id": "20dff369",
   "metadata": {},
   "outputs": [
    {
     "name": "stdout",
     "output_type": "stream",
     "text": [
      "0.3499755859375\n"
     ]
    }
   ],
   "source": [
    "for i in n:\n",
    "    a = ((0.5)**m)*math.factorial(m)/math.factorial(m-i)/math.factorial(i)\n",
    "    sum +=a\n",
    "\n",
    "print(sum)   "
   ]
  },
  {
   "cell_type": "markdown",
   "id": "62164d93",
   "metadata": {},
   "source": [
    "Задание 2"
   ]
  },
  {
   "cell_type": "code",
   "execution_count": 12,
   "id": "97a08ba3",
   "metadata": {},
   "outputs": [],
   "source": [
    "import numpy as np\n",
    "import matplotlib.pyplot as plt\n"
   ]
  },
  {
   "cell_type": "code",
   "execution_count": 14,
   "id": "f197248d",
   "metadata": {},
   "outputs": [
    {
     "data": {
      "text/plain": [
       "(array([104., 101., 100.,  93., 105.,  97.,  81., 115.,  98., 106.]),\n",
       " array([0. , 0.9, 1.8, 2.7, 3.6, 4.5, 5.4, 6.3, 7.2, 8.1, 9. ]),\n",
       " <BarContainer object of 10 artists>)"
      ]
     },
     "execution_count": 14,
     "metadata": {},
     "output_type": "execute_result"
    },
    {
     "data": {
      "image/png": "[encoded data removed]",
      "text/plain": [
       "<Figure size 432x288 with 1 Axes>"
      ]
     },
     "metadata": {
      "needs_background": "light"
     },
     "output_type": "display_data"
    }
   ],
   "source": [
    "a=np. random.choice(10, 1000)\n",
    "plt.hist(a)\n"
   ]
  },
  {
   "cell_type": "code",
   "execution_count": 18,
   "id": "676d16f8",
   "metadata": {},
   "outputs": [
    {
     "name": "stdout",
     "output_type": "stream",
     "text": [
      "Mediana:  4.0\n",
      "Mean:  4.514\n",
      "Variance:  8.475804\n"
     ]
    }
   ],
   "source": [
    "print('Mediana: ', np.median(a))\n",
    "print('Mean: ', np.mean(a))\n",
    "print('Variance: ', np.var(a))"
   ]
  },
  {
   "cell_type": "markdown",
   "id": "1a7f5c96",
   "metadata": {},
   "source": [
    "Уровень 1. Задание3"
   ]
  },
  {
   "cell_type": "markdown",
   "id": "f2565302",
   "metadata": {},
   "source": [
    "Вероятноcть совместного наступления событий А1,А2 ( все монеты упали одной стороной) =\n",
    "0.5**3(все орел)+0.5**3(все решка)=1/4\n",
    "Вероятность наступления A1=1/2 (обе решки 1/4 + обе орел 1/4, 3 -ая монета не имеет значения), аналочно p(A2)=1/2\n",
    "Получается 1/2*1/2=1/4 \n",
    "Аналогично для других пар. Получается попарная независимость.\n",
    "НО не независимы в совокупности , т.к. P(a1 и a2 и a3)=1/4 (если произвошло 1 и 2, значит А3 - верно)\n",
    "p(a1)*p(a2)*p(a3)=1/8\n",
    "\n",
    "\n"
   ]
  },
  {
   "cell_type": "markdown",
   "id": "7213b9f1",
   "metadata": {},
   "source": [
    "Задание 4"
   ]
  },
  {
   "cell_type": "code",
   "execution_count": 22,
   "id": "ea22b62e",
   "metadata": {},
   "outputs": [
    {
     "data": {
      "text/plain": [
       "0.135"
      ]
     },
     "execution_count": 22,
     "metadata": {},
     "output_type": "execute_result"
    }
   ],
   "source": [
    "A = 0.2*0.1 + 0.3*0.05 + 0.5*0.2\n",
    "A"
   ]
  },
  {
   "cell_type": "code",
   "execution_count": null,
   "id": "1c3a4f19",
   "metadata": {},
   "outputs": [],
   "source": []
  }
 ],
 "metadata": {
  "kernelspec": {
   "display_name": "Python 3",
   "language": "python",
   "name": "python3"
  },
  "language_info": {
   "codemirror_mode": {
    "name": "ipython",
    "version": 3
   },
   "file_extension": ".py",
   "mimetype": "text/x-python",
   "name": "python",
   "nbconvert_exporter": "python",
   "pygments_lexer": "ipython3",
   "version": "3.8.8"
  }
 },
 "nbformat": 4,
 "nbformat_minor": 5
}
