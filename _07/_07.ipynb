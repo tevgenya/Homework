{
 "cells": [
  {
   "cell_type": "code",
   "execution_count": 8,
   "metadata": {},
   "outputs": [
    {
     "name": "stdout",
     "output_type": "stream",
     "text": [
      "2002-10-02 00:00:00\n"
     ]
    }
   ],
   "source": [
    "from datetime import datetime\n",
    "str='Wednesday, October 2, 2002'\n",
    "new_str = datetime.strptime(str,'%A, %B %d, %Y')\n",
    "print(new_str)"
   ]
  },
  {
   "cell_type": "code",
   "execution_count": 10,
   "metadata": {},
   "outputs": [
    {
     "name": "stdout",
     "output_type": "stream",
     "text": [
      "2013-10-11 00:00:00\n"
     ]
    }
   ],
   "source": [
    "str='Friday, 11.10.13'\n",
    "new_str = datetime.strptime(str,'%A, %d.%m.%y')\n",
    "print(new_str)"
   ]
  },
  {
   "cell_type": "code",
   "execution_count": 15,
   "metadata": {},
   "outputs": [
    {
     "name": "stdout",
     "output_type": "stream",
     "text": [
      "1977-08-31 00:00:00\n"
     ]
    }
   ],
   "source": [
    "str='Thursday, 31 August 1977'\n",
    "new_str = datetime.strptime(str,'%A, %d %B %Y')\n",
    "print(new_str)"
   ]
  },
  {
   "cell_type": "code",
   "execution_count": 18,
   "metadata": {},
   "outputs": [
    {
     "name": "stdout",
     "output_type": "stream",
     "text": [
      "2018-04-02  - true\n",
      "2018-02-29  - false\n",
      "2018-19-02  - false\n"
     ]
    }
   ],
   "source": [
    "stream = ['2018-04-02', '2018-02-29', '2018-19-02']\n",
    "for element in stream:\n",
    "    try:\n",
    "        str = datetime.strptime(element,'%Y-%m-%d')\n",
    "        print(element, ' - true')\n",
    "    except:\n",
    "        print(element, ' - false')"
   ]
  },
  {
   "cell_type": "code",
   "execution_count": 39,
   "metadata": {},
   "outputs": [
    {
     "name": "stdout",
     "output_type": "stream",
     "text": [
      "[]\n"
     ]
    }
   ],
   "source": [
    "from  datetime import timedelta\n",
    "start_date ='2018-04-02'\n",
    "end_date = '2018-03-18'\n",
    "def date_range(st_date,en_date):\n",
    "    try:\n",
    "        st_date_format = datetime.strptime(st_date,'%Y-%m-%d')\n",
    "        en_date_format = datetime.strptime(en_date,'%Y-%m-%d')\n",
    "        if en_date_format >= st_date_format:\n",
    "            while st_date_format <= en_date_format:\n",
    "                print(datetime.strftime(st_date_format,'%Y-%m-%d'))\n",
    "                st_date_format += timedelta(days=1)\n",
    "        else:\n",
    "            print([])     \n",
    "    except:\n",
    "        print([])\n",
    "date_range(start_date,end_date)"
   ]
  },
  {
   "cell_type": "code",
   "execution_count": null,
   "metadata": {},
   "outputs": [],
   "source": []
  }
 ],
 "metadata": {
  "kernelspec": {
   "display_name": "Python 3",
   "language": "python",
   "name": "python3"
  },
  "language_info": {
   "codemirror_mode": {
    "name": "ipython",
    "version": 3
   },
   "file_extension": ".py",
   "mimetype": "text/x-python",
   "name": "python",
   "nbconvert_exporter": "python",
   "pygments_lexer": "ipython3",
   "version": "3.8.5"
  }
 },
 "nbformat": 4,
 "nbformat_minor": 4
}
