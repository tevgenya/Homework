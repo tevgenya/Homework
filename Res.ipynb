{
 "cells": [
  {
   "cell_type": "code",
   "execution_count": 2,
   "id": "a1397f80",
   "metadata": {},
   "outputs": [],
   "source": [
    "import matplotlib.pyplot as plt\n",
    "import numpy as np\n",
    "\n",
    "from scipy.optimize import minimize\n",
    "%matplotlib inline"
   ]
  },
  {
   "cell_type": "code",
   "execution_count": 3,
   "id": "d2737c7a",
   "metadata": {},
   "outputs": [],
   "source": [
    "raiting = np.array([[ 4,  4,  9,  4,  1,  6, 10,  7,  9,  6,  9,  2,  8,  6,  6],\n",
    "                     [ 9,  2,  5, 10,  7,  8, 10,  5,  6,  2,  1,  6,  8,  9,  7],\n",
    "                     [ 1,  6,  8,  8,  4,  9,  3,  8, 10,  5,  2,  6,  8,  1,  6],\n",
    "                     [ 6,  1,  9,  7,  7,  9,  2,  3,  5,  1,  6,  6,  3,  2,  7],\n",
    "                     [ 3,  7,  3,  5,  7,  9,  9,  6,  2,  9,  1,  2,  8, 10,  6],\n",
    "                     [ 8,  3,  7,  3,  8,  6,  1,  8,  8,  6,  1,  9,  4, 10,  1],\n",
    "                     [ 9,  8,  4,  8,  8, 10,  6,  1,  1,  2,  9,  5,  2,  7,  2],\n",
    "                     [ 4,  1,  6,  4,  3, 10,  4,  4,  2,  8,  7,  9,  3,  8,  3],\n",
    "                     [ 2,  7,  7,  6, 10,  6,  8,  9,  8,  6, 10,  1,  7, 10,  4],\n",
    "                     [ 5, 10,  8,  8,  9,  7,  2,  9,  9, 10,  8,  8,  8,  6, 10]])"
   ]
  },
  {
   "cell_type": "code",
   "execution_count": 6,
   "id": "bef3e7bb",
   "metadata": {},
   "outputs": [
    {
     "name": "stdout",
     "output_type": "stream",
     "text": [
      "0 ,  8\n",
      "1 ,  4\n",
      "2 ,  9\n",
      "3 ,  9\n",
      "4 ,  8\n",
      "5 ,  9\n",
      "6 ,  3\n",
      "7 ,  5\n",
      "8 ,  0\n",
      "9 ,  2\n"
     ]
    }
   ],
   "source": [
    "n=10\n",
    "\n",
    "for  i in range(n):\n",
    "    max_list=[]\n",
    "    for j in range(n):\n",
    "        if i!=j :\n",
    "            cos_met=np.dot(raiting[i,:], raiting[j,:])/(np.linalg.norm(raiting[i,:])*(np.linalg.norm(raiting[j,:])))\n",
    "        else:\n",
    "             cos_met=0  \n",
    "        max_list.append(cos_met)\n",
    "    # выводим номера схожих пользователей    \n",
    "    print(i,\", \",max_list.index(max(max_list)))                                                    "
   ]
  },
  {
   "cell_type": "markdown",
   "id": "2de078e3",
   "metadata": {},
   "source": [
    "Задание 1.Б\n",
    "вы захотели сжать признаковые описания пользователя с 15 фильмов, до, скажем, 5-ти признаков, как вы это сделаете?"
   ]
  },
  {
   "cell_type": "code",
   "execution_count": 39,
   "id": "b1112af6",
   "metadata": {},
   "outputs": [
    {
     "data": {
      "text/plain": [
       "array([[-5.30986101,  1.92919845, -4.93300027,  2.70188013,  5.50497886],\n",
       "       [ 2.87763403,  2.71659559,  1.40592782,  7.26325751, -4.50322291],\n",
       "       [-4.94010408, -6.68861167, -0.94550184,  3.61556661, -0.68969272],\n",
       "       [ 5.14939908, -6.28027284, -4.65978558,  1.09024004, -1.01471112],\n",
       "       [-1.37488691,  7.54357985,  4.00834369,  2.1284001 , -0.16324949],\n",
       "       [ 2.65341956, -3.77075601,  8.58430748, -1.46628319,  1.67401769],\n",
       "       [ 8.61573944,  3.78603335, -4.02721027, -4.37582577, -3.13880277],\n",
       "       [ 5.39658258, -1.0170466 ,  1.01456742, -1.89512837,  6.54883538],\n",
       "       [-5.7843488 ,  5.29857107, -1.48083611, -3.71295542,  0.21312695],\n",
       "       [-7.2835739 , -3.51729118,  1.03318766, -5.34915166, -4.43127987]])"
      ]
     },
     "execution_count": 39,
     "metadata": {},
     "output_type": "execute_result"
    }
   ],
   "source": [
    "from sklearn.decomposition import PCA\n",
    "\n",
    "pca = PCA(n_components=5)\n",
    "pca.fit(raiting)\n",
    "raiting_new=pca.transform(raiting)\n",
    "raiting_new"
   ]
  },
  {
   "cell_type": "code",
   "execution_count": null,
   "id": "3e1583ed",
   "metadata": {},
   "outputs": [],
   "source": []
  },
  {
   "cell_type": "code",
   "execution_count": null,
   "id": "8d155b0c",
   "metadata": {},
   "outputs": [],
   "source": []
  },
  {
   "cell_type": "code",
   "execution_count": null,
   "id": "6484b690",
   "metadata": {},
   "outputs": [],
   "source": []
  },
  {
   "cell_type": "markdown",
   "id": "d07f648d",
   "metadata": {},
   "source": [
    "Задание 5"
   ]
  },
  {
   "cell_type": "code",
   "execution_count": 19,
   "id": "c855e17d",
   "metadata": {},
   "outputs": [
    {
     "name": "stdout",
     "output_type": "stream",
     "text": [
      "Собств.значения  [ 3. -1.]\n",
      "Собств. векторы  [[ 0.89442719 -0.89442719]\n",
      " [ 0.4472136   0.4472136 ]]\n"
     ]
    }
   ],
   "source": [
    "m = np.array([[1, 4],\n",
    "              [1, 1]])\n",
    "k,l=np.linalg.eig(m)\n",
    "print(\"Собств.значения \",k)\n",
    "print (\"Собств. векторы \", l)"
   ]
  },
  {
   "cell_type": "markdown",
   "id": "b506f889",
   "metadata": {},
   "source": [
    "Считаем руками:\n",
    "\n",
    "(1-a)  ...    4\n",
    "\n",
    "1         ...(1-a)"
   ]
  },
  {
   "cell_type": "markdown",
   "id": "db2664c0",
   "metadata": {},
   "source": [
    "(1-а)**2-4=а**2-2а+1-4=а**2-2а-3=0,  корни 3 и -1"
   ]
  },
  {
   "cell_type": "markdown",
   "id": "b80e3e39",
   "metadata": {},
   "source": [
    "Задание 4"
   ]
  },
  {
   "cell_type": "code",
   "execution_count": 21,
   "id": "db8a4895",
   "metadata": {},
   "outputs": [],
   "source": [
    "samples=1000\n",
    "n=50\n",
    "max_value=20\n",
    "min_value=0\n",
    "mean_list=[]"
   ]
  },
  {
   "cell_type": "code",
   "execution_count": 24,
   "id": "c3c0995c",
   "metadata": {
    "scrolled": true
   },
   "outputs": [],
   "source": [
    "for i in range(samples):\n",
    "    m = np.random.randint(min_value, max_value, n)\n",
    "    mean_list.append(m.mean())"
   ]
  },
  {
   "cell_type": "code",
   "execution_count": 27,
   "id": "d47e5d3f",
   "metadata": {},
   "outputs": [
    {
     "data": {
      "text/plain": [
       "(array([  7.,  30.,  73., 161., 252., 234., 149.,  71.,  18.,   5.]),\n",
       " array([ 6.9  ,  7.424,  7.948,  8.472,  8.996,  9.52 , 10.044, 10.568,\n",
       "        11.092, 11.616, 12.14 ]),\n",
       " <BarContainer object of 10 artists>)"
      ]
     },
     "execution_count": 27,
     "metadata": {},
     "output_type": "execute_result"
    },
    {
     "data": {
      "image/png": "[encoded data removed]",
      "text/plain": [
       "<Figure size 432x288 with 1 Axes>"
      ]
     },
     "metadata": {
      "needs_background": "light"
     },
     "output_type": "display_data"
    }
   ],
   "source": [
    "plt.hist(mean_list)"
   ]
  },
  {
   "cell_type": "markdown",
   "id": "7b89a296",
   "metadata": {},
   "source": [
    "Задание 2"
   ]
  },
  {
   "cell_type": "code",
   "execution_count": 7,
   "id": "16db13bf",
   "metadata": {},
   "outputs": [
    {
     "name": "stdout",
     "output_type": "stream",
     "text": [
      "Производная в точке х=1  55.3859176464222\n"
     ]
    }
   ],
   "source": [
    "from scipy.misc import derivative\n",
    "import math\n",
    "\n",
    "\n",
    "def f(x):\n",
    "    return math.tan(math.sin(x)+math.cos(2*x+3))**2\n",
    "\n",
    "print('Производная в точке х=1 ', derivative(f,1, n=1,dx=1e-6))\n"
   ]
  },
  {
   "cell_type": "markdown",
   "id": "44e15e5f",
   "metadata": {},
   "source": [
    "Производная 2 tg(sinx+cos(2x+3))*(1/cos2(sinx+cos(2x+3))*(cos(x)-2sin(2x+3))"
   ]
  },
  {
   "cell_type": "code",
   "execution_count": 8,
   "id": "cbfc2128",
   "metadata": {},
   "outputs": [
    {
     "data": {
      "text/plain": [
       "55.385917635337854"
      ]
     },
     "execution_count": 8,
     "metadata": {},
     "output_type": "execute_result"
    }
   ],
   "source": [
    "x=1\n",
    "2*math.tan(math.sin(x)+math.cos(2*x+3))*(1/(math.cos(math.sin(x)+math.cos(2*x+3)))**2)*(math.cos(x)-2*math.sin(2*x+3))"
   ]
  },
  {
   "cell_type": "markdown",
   "id": "72fd269e",
   "metadata": {},
   "source": [
    "Не понимаю почему получается разное значение в точке 1. (55 и 57). "
   ]
  },
  {
   "cell_type": "markdown",
   "id": "dc0e1252",
   "metadata": {},
   "source": [
    "Задание 3"
   ]
  },
  {
   "cell_type": "code",
   "execution_count": 9,
   "id": "83f2edc2",
   "metadata": {},
   "outputs": [],
   "source": [
    "def f(x, a, b):\n",
    "    return np.e**a * np.sin(b*x) + x"
   ]
  },
  {
   "cell_type": "code",
   "execution_count": 10,
   "id": "031a3348",
   "metadata": {},
   "outputs": [],
   "source": [
    "x = np.array([0.        , 0.26315789, 0.52631579, 0.78947368, 1.05263158,\n",
    "              1.31578947, 1.57894737, 1.84210526, 2.10526316, 2.36842105,\n",
    "              2.63157895, 2.89473684, 3.15789474, 3.42105263, 3.68421053,\n",
    "              3.94736842, 4.21052632, 4.47368421, 4.73684211, 5.        ])"
   ]
  },
  {
   "cell_type": "code",
   "execution_count": 11,
   "id": "583684b4",
   "metadata": {},
   "outputs": [],
   "source": [
    "fx = np.array([  0.        , -12.01819092, -18.90968634, -17.68786571,\n",
    "                -8.7529108 ,   4.27524517,  16.06801336,  21.81250213,\n",
    "                19.22059845,   9.48411207,  -3.22273056, -13.48576488,\n",
    "               -16.91096359, -11.95866834,  -0.58630088,  12.56873816,\n",
    "                22.12489421,  24.20292139,  18.04522521,   6.33211092])"
   ]
  },
  {
   "cell_type": "code",
   "execution_count": 12,
   "id": "7c56ce3f",
   "metadata": {},
   "outputs": [
    {
     "data": {
      "image/png": "[encoded data removed]",
      "text/plain": [
       "<Figure size 432x288 with 1 Axes>"
      ]
     },
     "metadata": {
      "needs_background": "light"
     },
     "output_type": "display_data"
    }
   ],
   "source": [
    "plt.plot(x, fx)\n",
    "plt.show()"
   ]
  },
  {
   "cell_type": "code",
   "execution_count": 40,
   "id": "27f62833",
   "metadata": {},
   "outputs": [],
   "source": [
    "def error(param):\n",
    "    return np.sum(np.abs(fx - f(x, param[0], param[1])))"
   ]
  },
  {
   "cell_type": "code",
   "execution_count": 63,
   "id": "6aae86e4",
   "metadata": {},
   "outputs": [
    {
     "data": {
      "text/plain": [
       "array([ 3.        , 21.37610417])"
      ]
     },
     "execution_count": 63,
     "metadata": {},
     "output_type": "execute_result"
    }
   ],
   "source": [
    "from scipy.optimize import basinhopping\n",
    "a_b=[10,10]\n",
    "minimizer_kwargs = {'method': 'BFGS'}\n",
    "ret =basinhopping(error,a_b, minimizer_kwargs=minimizer_kwargs, niter=30)\n",
    "ret.x"
   ]
  },
  {
   "cell_type": "code",
   "execution_count": 64,
   "id": "ce42b01d",
   "metadata": {},
   "outputs": [
    {
     "data": {
      "text/plain": [
       "1.3023008887280696e-05"
      ]
     },
     "execution_count": 64,
     "metadata": {},
     "output_type": "execute_result"
    }
   ],
   "source": [
    "ret.fun"
   ]
  },
  {
   "cell_type": "code",
   "execution_count": 65,
   "id": "29b3da40",
   "metadata": {},
   "outputs": [],
   "source": [
    "f_new=[]\n",
    "for i in x:\n",
    "    f_new.append(f(i,ret.x[0],ret.x[1]))\n",
    "    "
   ]
  },
  {
   "cell_type": "code",
   "execution_count": 66,
   "id": "891dafdc",
   "metadata": {},
   "outputs": [
    {
     "data": {
      "image/png": "[encoded data removed]",
      "text/plain": [
       "<Figure size 432x288 with 1 Axes>"
      ]
     },
     "metadata": {
      "needs_background": "light"
     },
     "output_type": "display_data"
    }
   ],
   "source": [
    "plt.plot(x, fx, color='blue')\n",
    "plt.scatter(x, f_new, color='red')\n",
    "plt.show()"
   ]
  },
  {
   "cell_type": "code",
   "execution_count": 68,
   "id": "d2fe83e3",
   "metadata": {},
   "outputs": [],
   "source": [
    "from  scipy.optimize import  differential_evolution"
   ]
  },
  {
   "cell_type": "code",
   "execution_count": 69,
   "id": "045de792",
   "metadata": {},
   "outputs": [
    {
     "data": {
      "text/plain": [
       "     fun: 1.290446759760755e-05\n",
       " message: 'Optimization terminated successfully.'\n",
       "    nfev: 1803\n",
       "     nit: 57\n",
       " success: True\n",
       "       x: array([ 3.        , 21.37610417])"
      ]
     },
     "execution_count": 69,
     "metadata": {},
     "output_type": "execute_result"
    }
   ],
   "source": [
    "bounds = [(0, 5), (-20, 25)]\n",
    "result = differential_evolution(error, bounds)\n",
    "result"
   ]
  },
  {
   "cell_type": "code",
   "execution_count": null,
   "id": "047120aa",
   "metadata": {},
   "outputs": [],
   "source": []
  }
 ],
 "metadata": {
  "kernelspec": {
   "display_name": "Python 3",
   "language": "python",
   "name": "python3"
  },
  "language_info": {
   "codemirror_mode": {
    "name": "ipython",
    "version": 3
   },
   "file_extension": ".py",
   "mimetype": "text/x-python",
   "name": "python",
   "nbconvert_exporter": "python",
   "pygments_lexer": "ipython3",
   "version": "3.8.8"
  }
 },
 "nbformat": 4,
 "nbformat_minor": 5
}
